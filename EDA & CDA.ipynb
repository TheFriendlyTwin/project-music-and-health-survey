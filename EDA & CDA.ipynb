{
 "cells": [
  {
   "cell_type": "markdown",
   "id": "9a7bceb3",
   "metadata": {},
   "source": [
    "# Final Project"
   ]
  },
  {
   "cell_type": "markdown",
   "id": "ccfd6b22",
   "metadata": {},
   "source": [
    "## Dataset : Music & Mental Health Survey Results\n"
   ]
  },
  {
   "cell_type": "markdown",
   "id": "0631c4b9",
   "metadata": {},
   "source": [
    "------------------------------------------------------------------------------------------------------\n",
    "The dataset was extracted in kaggle, and the data collection was managed by Catherine Rasgaitis, through a form with generic questions regarding musical background and listening habits and mental health symptoms.\n",
    "\n",
    "Columns:\n",
    "- Timestamp - Date and time when form was submitted\n",
    "- Age - Respondent's age \n",
    "- Primary streaming service - Respondent's primary streaming service\n",
    "- Hours per day - Number of hours the respondent listens to music per day\n",
    "- While working - Does the respondent listen to music while \n",
    "- Instrumentalist - Does the respondent play an instrument regularly?\n",
    "- Composer - Does the respondent compose music?\n",
    "- Fav genre - Respondent's favorite or top genre\n",
    "- Exploratory - Does the respondent actively explore new artists/genres?\n",
    "- Foreign languages - Does the respondent regularly listen to music with lyrics in a language they are not fluent in?\n",
    "- BPM - Beats per minute of favorite genre\n",
    "- Frequency [Classical] - How frequently the respondent listens to classical music\n",
    "- Frequency [Country] - How frequently the respondent listens to country music\n",
    "- Frequency [EDM] - How frequently the respondent listens to EDM music\n",
    "- Frequency [Folk] - How frequently the respondent listens to folks music\n",
    "- Frequency [Gospel] - How frequently the respondent listens to Gospel music\n",
    "- Frequency [Hip hop] - How frequently the respondent listens to hip hop music\n",
    "- Frequency [Jazz] - How frequently the respondent listens to jazz music\n",
    "- Frequency [K pop] - How frequently the respondent listens to K pop music\n",
    "- Frequency [Latin] - How frequently the respondent listens to Latin music\n",
    "- Frequency [Lofi] - How frequently the respondent listens to lofi music\n",
    "- Frequency [Metal] - How frequently the respondent listens to metal music\n",
    "- Frequency [Pop] - How frequently the respondent listens to pop music\n",
    "- Frequency [R&B] - How frequently the respondent listens to R&B music\n",
    "- Frequency [Rap] - How frequently the respondent listens to rap music\n",
    "- Frequency [Rock] - How frequently the respondent listens to rock music\n",
    "- Frequency [Video game music] - How frequently the respondent listens to video game music\n",
    "- Anxiety - Self-reported anxiety, on a scale of 0-10\n",
    "- Depression - Self-reported depression, on a scale of 0-10\n",
    "- Insomnia - Self-reported insomnia, on a scale of 0-10\n",
    "- OCD - Self-reported OCD, on a scale of 0-10\n",
    "- Music effects - Does music improve/worsen respondent's mental health conditions?\n",
    "- Permissions - Permissions to publicize data\n",
    "\n",
    "kaggle link: https://www.kaggle.com/datasets/catherinerasgaitis/mxmh-survey-results\n",
    "\n",
    "-----------------------------------------------------------------------------------------------------"
   ]
  },
  {
   "cell_type": "markdown",
   "id": "82353b20",
   "metadata": {},
   "source": [
    "## Objective"
   ]
  },
  {
   "cell_type": "markdown",
   "id": "595bc7ed",
   "metadata": {},
   "source": [
    "--------------------------------------------------------------------------------------------------------\n",
    "The goal here is to identify correlations between a person's music taste or relationship with music and its mental health. And additionaly to predict if an individuals music preference can influence their mental health status.\n",
    "\n",
    "-------------------------------------------------------------------------------------------------------"
   ]
  },
  {
   "cell_type": "markdown",
   "id": "594a413e",
   "metadata": {},
   "source": [
    "### 1. Data Cleaning"
   ]
  },
  {
   "cell_type": "code",
   "execution_count": 1,
   "id": "2e8c718f",
   "metadata": {},
   "outputs": [],
   "source": [
    "#Importing necessary libraries\n",
    "import pandas as pd\n",
    "import numpy as np"
   ]
  },
  {
   "cell_type": "code",
   "execution_count": 2,
   "id": "dba52358",
   "metadata": {},
   "outputs": [
    {
     "data": {
      "text/html": [
       "<div>\n",
       "<style scoped>\n",
       "    .dataframe tbody tr th:only-of-type {\n",
       "        vertical-align: middle;\n",
       "    }\n",
       "\n",
       "    .dataframe tbody tr th {\n",
       "        vertical-align: top;\n",
       "    }\n",
       "\n",
       "    .dataframe thead th {\n",
       "        text-align: right;\n",
       "    }\n",
       "</style>\n",
       "<table border=\"1\" class=\"dataframe\">\n",
       "  <thead>\n",
       "    <tr style=\"text-align: right;\">\n",
       "      <th></th>\n",
       "      <th>Timestamp</th>\n",
       "      <th>Age</th>\n",
       "      <th>Primary streaming service</th>\n",
       "      <th>Hours per day</th>\n",
       "      <th>While working</th>\n",
       "      <th>Instrumentalist</th>\n",
       "      <th>Composer</th>\n",
       "      <th>Fav genre</th>\n",
       "      <th>Exploratory</th>\n",
       "      <th>Foreign languages</th>\n",
       "      <th>...</th>\n",
       "      <th>Frequency [R&amp;B]</th>\n",
       "      <th>Frequency [Rap]</th>\n",
       "      <th>Frequency [Rock]</th>\n",
       "      <th>Frequency [Video game music]</th>\n",
       "      <th>Anxiety</th>\n",
       "      <th>Depression</th>\n",
       "      <th>Insomnia</th>\n",
       "      <th>OCD</th>\n",
       "      <th>Music effects</th>\n",
       "      <th>Permissions</th>\n",
       "    </tr>\n",
       "  </thead>\n",
       "  <tbody>\n",
       "    <tr>\n",
       "      <th>0</th>\n",
       "      <td>8/27/2022 19:29:02</td>\n",
       "      <td>18.0</td>\n",
       "      <td>Spotify</td>\n",
       "      <td>3.0</td>\n",
       "      <td>Yes</td>\n",
       "      <td>Yes</td>\n",
       "      <td>Yes</td>\n",
       "      <td>Latin</td>\n",
       "      <td>Yes</td>\n",
       "      <td>Yes</td>\n",
       "      <td>...</td>\n",
       "      <td>Sometimes</td>\n",
       "      <td>Very frequently</td>\n",
       "      <td>Never</td>\n",
       "      <td>Sometimes</td>\n",
       "      <td>3.0</td>\n",
       "      <td>0.0</td>\n",
       "      <td>1.0</td>\n",
       "      <td>0.0</td>\n",
       "      <td>NaN</td>\n",
       "      <td>I understand.</td>\n",
       "    </tr>\n",
       "    <tr>\n",
       "      <th>1</th>\n",
       "      <td>8/27/2022 19:57:31</td>\n",
       "      <td>63.0</td>\n",
       "      <td>Pandora</td>\n",
       "      <td>1.5</td>\n",
       "      <td>Yes</td>\n",
       "      <td>No</td>\n",
       "      <td>No</td>\n",
       "      <td>Rock</td>\n",
       "      <td>Yes</td>\n",
       "      <td>No</td>\n",
       "      <td>...</td>\n",
       "      <td>Sometimes</td>\n",
       "      <td>Rarely</td>\n",
       "      <td>Very frequently</td>\n",
       "      <td>Rarely</td>\n",
       "      <td>7.0</td>\n",
       "      <td>2.0</td>\n",
       "      <td>2.0</td>\n",
       "      <td>1.0</td>\n",
       "      <td>NaN</td>\n",
       "      <td>I understand.</td>\n",
       "    </tr>\n",
       "    <tr>\n",
       "      <th>2</th>\n",
       "      <td>8/27/2022 21:28:18</td>\n",
       "      <td>18.0</td>\n",
       "      <td>Spotify</td>\n",
       "      <td>4.0</td>\n",
       "      <td>No</td>\n",
       "      <td>No</td>\n",
       "      <td>No</td>\n",
       "      <td>Video game music</td>\n",
       "      <td>No</td>\n",
       "      <td>Yes</td>\n",
       "      <td>...</td>\n",
       "      <td>Never</td>\n",
       "      <td>Rarely</td>\n",
       "      <td>Rarely</td>\n",
       "      <td>Very frequently</td>\n",
       "      <td>7.0</td>\n",
       "      <td>7.0</td>\n",
       "      <td>10.0</td>\n",
       "      <td>2.0</td>\n",
       "      <td>No effect</td>\n",
       "      <td>I understand.</td>\n",
       "    </tr>\n",
       "    <tr>\n",
       "      <th>3</th>\n",
       "      <td>8/27/2022 21:40:40</td>\n",
       "      <td>61.0</td>\n",
       "      <td>YouTube Music</td>\n",
       "      <td>2.5</td>\n",
       "      <td>Yes</td>\n",
       "      <td>No</td>\n",
       "      <td>Yes</td>\n",
       "      <td>Jazz</td>\n",
       "      <td>Yes</td>\n",
       "      <td>Yes</td>\n",
       "      <td>...</td>\n",
       "      <td>Sometimes</td>\n",
       "      <td>Never</td>\n",
       "      <td>Never</td>\n",
       "      <td>Never</td>\n",
       "      <td>9.0</td>\n",
       "      <td>7.0</td>\n",
       "      <td>3.0</td>\n",
       "      <td>3.0</td>\n",
       "      <td>Improve</td>\n",
       "      <td>I understand.</td>\n",
       "    </tr>\n",
       "    <tr>\n",
       "      <th>4</th>\n",
       "      <td>8/27/2022 21:54:47</td>\n",
       "      <td>18.0</td>\n",
       "      <td>Spotify</td>\n",
       "      <td>4.0</td>\n",
       "      <td>Yes</td>\n",
       "      <td>No</td>\n",
       "      <td>No</td>\n",
       "      <td>R&amp;B</td>\n",
       "      <td>Yes</td>\n",
       "      <td>No</td>\n",
       "      <td>...</td>\n",
       "      <td>Very frequently</td>\n",
       "      <td>Very frequently</td>\n",
       "      <td>Never</td>\n",
       "      <td>Rarely</td>\n",
       "      <td>7.0</td>\n",
       "      <td>2.0</td>\n",
       "      <td>5.0</td>\n",
       "      <td>9.0</td>\n",
       "      <td>Improve</td>\n",
       "      <td>I understand.</td>\n",
       "    </tr>\n",
       "  </tbody>\n",
       "</table>\n",
       "<p>5 rows × 33 columns</p>\n",
       "</div>"
      ],
      "text/plain": [
       "            Timestamp   Age Primary streaming service  Hours per day  \\\n",
       "0  8/27/2022 19:29:02  18.0                   Spotify            3.0   \n",
       "1  8/27/2022 19:57:31  63.0                   Pandora            1.5   \n",
       "2  8/27/2022 21:28:18  18.0                   Spotify            4.0   \n",
       "3  8/27/2022 21:40:40  61.0             YouTube Music            2.5   \n",
       "4  8/27/2022 21:54:47  18.0                   Spotify            4.0   \n",
       "\n",
       "  While working Instrumentalist Composer         Fav genre Exploratory  \\\n",
       "0           Yes             Yes      Yes             Latin         Yes   \n",
       "1           Yes              No       No              Rock         Yes   \n",
       "2            No              No       No  Video game music          No   \n",
       "3           Yes              No      Yes              Jazz         Yes   \n",
       "4           Yes              No       No               R&B         Yes   \n",
       "\n",
       "  Foreign languages  ...  Frequency [R&B]  Frequency [Rap] Frequency [Rock]  \\\n",
       "0               Yes  ...        Sometimes  Very frequently            Never   \n",
       "1                No  ...        Sometimes           Rarely  Very frequently   \n",
       "2               Yes  ...            Never           Rarely           Rarely   \n",
       "3               Yes  ...        Sometimes            Never            Never   \n",
       "4                No  ...  Very frequently  Very frequently            Never   \n",
       "\n",
       "  Frequency [Video game music] Anxiety Depression Insomnia  OCD Music effects  \\\n",
       "0                    Sometimes     3.0        0.0      1.0  0.0           NaN   \n",
       "1                       Rarely     7.0        2.0      2.0  1.0           NaN   \n",
       "2              Very frequently     7.0        7.0     10.0  2.0     No effect   \n",
       "3                        Never     9.0        7.0      3.0  3.0       Improve   \n",
       "4                       Rarely     7.0        2.0      5.0  9.0       Improve   \n",
       "\n",
       "     Permissions  \n",
       "0  I understand.  \n",
       "1  I understand.  \n",
       "2  I understand.  \n",
       "3  I understand.  \n",
       "4  I understand.  \n",
       "\n",
       "[5 rows x 33 columns]"
      ]
     },
     "execution_count": 2,
     "metadata": {},
     "output_type": "execute_result"
    }
   ],
   "source": [
    "# Loading the 'Music & Mental Health Survey Results' dataset\n",
    "df = pd.read_csv(r\"C:\\Users\\mafal\\Documents\\ironhack\\projects\\project-music-and-mental-health-survey\\archive\\mxmh_survey_results.csv\", encoding=\"latin1\", sep= \",\")\n",
    "df.head()"
   ]
  },
  {
   "cell_type": "code",
   "execution_count": 3,
   "id": "fc3c6433",
   "metadata": {},
   "outputs": [
    {
     "data": {
      "text/plain": [
       "(736, 33)"
      ]
     },
     "execution_count": 3,
     "metadata": {},
     "output_type": "execute_result"
    }
   ],
   "source": [
    "df.shape"
   ]
  },
  {
   "cell_type": "code",
   "execution_count": 4,
   "id": "329e272d",
   "metadata": {},
   "outputs": [
    {
     "data": {
      "text/plain": [
       "Index(['Timestamp', 'Age', 'Primary streaming service', 'Hours per day',\n",
       "       'While working', 'Instrumentalist', 'Composer', 'Fav genre',\n",
       "       'Exploratory', 'Foreign languages', 'BPM', 'Frequency [Classical]',\n",
       "       'Frequency [Country]', 'Frequency [EDM]', 'Frequency [Folk]',\n",
       "       'Frequency [Gospel]', 'Frequency [Hip hop]', 'Frequency [Jazz]',\n",
       "       'Frequency [K pop]', 'Frequency [Latin]', 'Frequency [Lofi]',\n",
       "       'Frequency [Metal]', 'Frequency [Pop]', 'Frequency [R&B]',\n",
       "       'Frequency [Rap]', 'Frequency [Rock]', 'Frequency [Video game music]',\n",
       "       'Anxiety', 'Depression', 'Insomnia', 'OCD', 'Music effects',\n",
       "       'Permissions'],\n",
       "      dtype='object')"
      ]
     },
     "execution_count": 4,
     "metadata": {},
     "output_type": "execute_result"
    }
   ],
   "source": [
    "df.columns"
   ]
  },
  {
   "cell_type": "markdown",
   "id": "20c5c2fd",
   "metadata": {},
   "source": [
    "##### 1.1 Cleaning NaNs"
   ]
  },
  {
   "cell_type": "code",
   "execution_count": 6,
   "id": "3fe84c55",
   "metadata": {},
   "outputs": [
    {
     "name": "stdout",
     "output_type": "stream",
     "text": [
      "Timestamp                         0\n",
      "Age                               1\n",
      "Primary streaming service         1\n",
      "Hours per day                     0\n",
      "While working                     3\n",
      "Instrumentalist                   4\n",
      "Composer                          1\n",
      "Fav genre                         0\n",
      "Exploratory                       0\n",
      "Foreign languages                 4\n",
      "BPM                             107\n",
      "Frequency [Classical]             0\n",
      "Frequency [Country]               0\n",
      "Frequency [EDM]                   0\n",
      "Frequency [Folk]                  0\n",
      "Frequency [Gospel]                0\n",
      "Frequency [Hip hop]               0\n",
      "Frequency [Jazz]                  0\n",
      "Frequency [K pop]                 0\n",
      "Frequency [Latin]                 0\n",
      "Frequency [Lofi]                  0\n",
      "Frequency [Metal]                 0\n",
      "Frequency [Pop]                   0\n",
      "Frequency [R&B]                   0\n",
      "Frequency [Rap]                   0\n",
      "Frequency [Rock]                  0\n",
      "Frequency [Video game music]      0\n",
      "Anxiety                           0\n",
      "Depression                        0\n",
      "Insomnia                          0\n",
      "OCD                               0\n",
      "Music effects                     8\n",
      "Permissions                       0\n",
      "dtype: int64\n"
     ]
    }
   ],
   "source": [
    "# Checking for nulls\n",
    "null_counts = df.isnull().sum()\n",
    "print(null_counts)"
   ]
  },
  {
   "cell_type": "markdown",
   "id": "03fabbcc",
   "metadata": {},
   "source": [
    "##### Age Column"
   ]
  },
  {
   "cell_type": "code",
   "execution_count": 7,
   "id": "cf894fd4",
   "metadata": {},
   "outputs": [
    {
     "data": {
      "text/plain": [
       "array([18., 63., 61., 21., 19., nan, 17., 16., 15., 14., 20., 26., 23.,\n",
       "       37., 36., 24., 22., 42., 25., 32., 29., 41., 31., 33., 30., 43.,\n",
       "       28., 34., 13., 35., 27., 53., 49., 60., 38., 44., 40., 64., 56.,\n",
       "       59., 10., 12., 54., 57., 69., 72., 73., 39., 58., 67., 70., 55.,\n",
       "       48., 71., 74., 51., 65., 80., 50., 68., 46., 89.])"
      ]
     },
     "execution_count": 7,
     "metadata": {},
     "output_type": "execute_result"
    }
   ],
   "source": [
    "df['Age'].unique()"
   ]
  },
  {
   "cell_type": "code",
   "execution_count": 8,
   "id": "28c04c4a",
   "metadata": {},
   "outputs": [],
   "source": [
    "# Drop rows where 'Age' is NaN\n",
    "df_cleaned = df.dropna(subset=['Age'])"
   ]
  },
  {
   "cell_type": "code",
   "execution_count": 9,
   "id": "0ca6568c",
   "metadata": {},
   "outputs": [
    {
     "data": {
      "text/plain": [
       "dtype('float64')"
      ]
     },
     "execution_count": 9,
     "metadata": {},
     "output_type": "execute_result"
    }
   ],
   "source": [
    "df_cleaned['Age'].dtype"
   ]
  },
  {
   "cell_type": "code",
   "execution_count": 10,
   "id": "060e0b5e",
   "metadata": {},
   "outputs": [
    {
     "name": "stderr",
     "output_type": "stream",
     "text": [
      "C:\\Users\\mafal\\AppData\\Local\\Temp\\ipykernel_9880\\575864172.py:2: SettingWithCopyWarning: \n",
      "A value is trying to be set on a copy of a slice from a DataFrame.\n",
      "Try using .loc[row_indexer,col_indexer] = value instead\n",
      "\n",
      "See the caveats in the documentation: https://pandas.pydata.org/pandas-docs/stable/user_guide/indexing.html#returning-a-view-versus-a-copy\n",
      "  df_cleaned['Age'] = df_cleaned['Age'].astype(int)\n"
     ]
    },
    {
     "data": {
      "text/plain": [
       "dtype('int32')"
      ]
     },
     "execution_count": 10,
     "metadata": {},
     "output_type": "execute_result"
    }
   ],
   "source": [
    "# Converting column Age from float to int\n",
    "df_cleaned['Age'] = df_cleaned['Age'].astype(int)\n",
    "df_cleaned['Age'].dtype"
   ]
  },
  {
   "cell_type": "markdown",
   "id": "c7ab7766",
   "metadata": {},
   "source": [
    "##### Primary streaming service Column"
   ]
  },
  {
   "cell_type": "code",
   "execution_count": 11,
   "id": "6eb3b42d",
   "metadata": {},
   "outputs": [
    {
     "data": {
      "text/plain": [
       "array(['Spotify', 'Pandora', 'YouTube Music',\n",
       "       'I do not use a streaming service.', 'Apple Music',\n",
       "       'Other streaming service', nan], dtype=object)"
      ]
     },
     "execution_count": 11,
     "metadata": {},
     "output_type": "execute_result"
    }
   ],
   "source": [
    "df_cleaned['Primary streaming service'].unique()"
   ]
  },
  {
   "cell_type": "code",
   "execution_count": 12,
   "id": "f9c715d8",
   "metadata": {},
   "outputs": [
    {
     "name": "stderr",
     "output_type": "stream",
     "text": [
      "C:\\Users\\mafal\\AppData\\Local\\Temp\\ipykernel_9880\\661986982.py:5: SettingWithCopyWarning: \n",
      "A value is trying to be set on a copy of a slice from a DataFrame.\n",
      "Try using .loc[row_indexer,col_indexer] = value instead\n",
      "\n",
      "See the caveats in the documentation: https://pandas.pydata.org/pandas-docs/stable/user_guide/indexing.html#returning-a-view-versus-a-copy\n",
      "  df_cleaned['Primary streaming service'] = df_cleaned['Primary streaming service'].apply(lambda x: x if x in accepted_services else 'Other')\n"
     ]
    },
    {
     "data": {
      "text/plain": [
       "Primary streaming service\n",
       "Spotify          457\n",
       "Other            122\n",
       "YouTube Music     94\n",
       "Apple Music       51\n",
       "Pandora           11\n",
       "Name: count, dtype: int64"
      ]
     },
     "execution_count": 12,
     "metadata": {},
     "output_type": "execute_result"
    }
   ],
   "source": [
    "# Define the list of accepted services\n",
    "accepted_services = ['Spotify', 'Pandora', 'YouTube Music', 'Apple Music']\n",
    "\n",
    "# Use .apply() to replace values\n",
    "df_cleaned['Primary streaming service'] = df_cleaned['Primary streaming service'].apply(lambda x: x if x in accepted_services else 'Other')\n",
    "\n",
    "# Check frequency for each value\n",
    "df_cleaned['Primary streaming service'].value_counts()"
   ]
  },
  {
   "cell_type": "markdown",
   "id": "7a2bbd54",
   "metadata": {},
   "source": [
    "##### While working Column"
   ]
  },
  {
   "cell_type": "code",
   "execution_count": 13,
   "id": "2cedf41c",
   "metadata": {},
   "outputs": [
    {
     "data": {
      "text/plain": [
       "array(['Yes', 'No', nan], dtype=object)"
      ]
     },
     "execution_count": 13,
     "metadata": {},
     "output_type": "execute_result"
    }
   ],
   "source": [
    "df_cleaned['While working'].unique()"
   ]
  },
  {
   "cell_type": "code",
   "execution_count": 14,
   "id": "415afc9a",
   "metadata": {},
   "outputs": [
    {
     "name": "stderr",
     "output_type": "stream",
     "text": [
      "C:\\Users\\mafal\\AppData\\Local\\Temp\\ipykernel_9880\\3096682811.py:2: SettingWithCopyWarning: \n",
      "A value is trying to be set on a copy of a slice from a DataFrame\n",
      "\n",
      "See the caveats in the documentation: https://pandas.pydata.org/pandas-docs/stable/user_guide/indexing.html#returning-a-view-versus-a-copy\n",
      "  df_cleaned['While working'].fillna('No', inplace=True)\n"
     ]
    },
    {
     "data": {
      "text/plain": [
       "While working\n",
       "Yes    578\n",
       "No     157\n",
       "Name: count, dtype: int64"
      ]
     },
     "execution_count": 14,
     "metadata": {},
     "output_type": "execute_result"
    }
   ],
   "source": [
    "# Replace NaN values in 'While working' column with 'No'\n",
    "df_cleaned['While working'].fillna('No', inplace=True)\n",
    "\n",
    "df_cleaned['While working'].value_counts()"
   ]
  },
  {
   "cell_type": "markdown",
   "id": "f3f1bb3d",
   "metadata": {},
   "source": [
    "##### Instrumentalist Column"
   ]
  },
  {
   "cell_type": "code",
   "execution_count": 15,
   "id": "6a6bba30",
   "metadata": {},
   "outputs": [
    {
     "data": {
      "text/plain": [
       "array(['Yes', 'No', nan], dtype=object)"
      ]
     },
     "execution_count": 15,
     "metadata": {},
     "output_type": "execute_result"
    }
   ],
   "source": [
    "df_cleaned['Instrumentalist'].unique()"
   ]
  },
  {
   "cell_type": "code",
   "execution_count": 16,
   "id": "d8d770dc",
   "metadata": {},
   "outputs": [
    {
     "name": "stderr",
     "output_type": "stream",
     "text": [
      "C:\\Users\\mafal\\AppData\\Local\\Temp\\ipykernel_9880\\3175493096.py:2: SettingWithCopyWarning: \n",
      "A value is trying to be set on a copy of a slice from a DataFrame\n",
      "\n",
      "See the caveats in the documentation: https://pandas.pydata.org/pandas-docs/stable/user_guide/indexing.html#returning-a-view-versus-a-copy\n",
      "  df_cleaned['Instrumentalist'].fillna('No', inplace=True)\n"
     ]
    },
    {
     "data": {
      "text/plain": [
       "Instrumentalist\n",
       "No     500\n",
       "Yes    235\n",
       "Name: count, dtype: int64"
      ]
     },
     "execution_count": 16,
     "metadata": {},
     "output_type": "execute_result"
    }
   ],
   "source": [
    "# Replace NaN values in 'Instrumentalist' column with 'No'\n",
    "df_cleaned['Instrumentalist'].fillna('No', inplace=True)\n",
    "\n",
    "df_cleaned['Instrumentalist'].value_counts()"
   ]
  },
  {
   "cell_type": "markdown",
   "id": "cfdcc634",
   "metadata": {},
   "source": [
    "##### Composer Column"
   ]
  },
  {
   "cell_type": "code",
   "execution_count": 17,
   "id": "dbfb68ab",
   "metadata": {},
   "outputs": [
    {
     "data": {
      "text/plain": [
       "array(['Yes', 'No', nan], dtype=object)"
      ]
     },
     "execution_count": 17,
     "metadata": {},
     "output_type": "execute_result"
    }
   ],
   "source": [
    "df_cleaned['Composer'].unique()"
   ]
  },
  {
   "cell_type": "code",
   "execution_count": 18,
   "id": "2b613c0d",
   "metadata": {},
   "outputs": [
    {
     "name": "stderr",
     "output_type": "stream",
     "text": [
      "C:\\Users\\mafal\\AppData\\Local\\Temp\\ipykernel_9880\\2430703653.py:2: SettingWithCopyWarning: \n",
      "A value is trying to be set on a copy of a slice from a DataFrame\n",
      "\n",
      "See the caveats in the documentation: https://pandas.pydata.org/pandas-docs/stable/user_guide/indexing.html#returning-a-view-versus-a-copy\n",
      "  df_cleaned['Composer'].fillna('No', inplace=True)\n"
     ]
    },
    {
     "data": {
      "text/plain": [
       "Composer\n",
       "No     609\n",
       "Yes    126\n",
       "Name: count, dtype: int64"
      ]
     },
     "execution_count": 18,
     "metadata": {},
     "output_type": "execute_result"
    }
   ],
   "source": [
    "# Replace NaN values in 'Composer' column with 'No'\n",
    "df_cleaned['Composer'].fillna('No', inplace=True)\n",
    "\n",
    "df_cleaned['Composer'].value_counts()"
   ]
  },
  {
   "cell_type": "markdown",
   "id": "6c24a61e",
   "metadata": {},
   "source": [
    "##### Foreign languages Column"
   ]
  },
  {
   "cell_type": "code",
   "execution_count": 19,
   "id": "3decdc39",
   "metadata": {},
   "outputs": [
    {
     "data": {
      "text/plain": [
       "array(['Yes', 'No', nan], dtype=object)"
      ]
     },
     "execution_count": 19,
     "metadata": {},
     "output_type": "execute_result"
    }
   ],
   "source": [
    "df_cleaned['Foreign languages'].unique()"
   ]
  },
  {
   "cell_type": "code",
   "execution_count": 20,
   "id": "03aeadab",
   "metadata": {},
   "outputs": [
    {
     "name": "stderr",
     "output_type": "stream",
     "text": [
      "C:\\Users\\mafal\\AppData\\Local\\Temp\\ipykernel_9880\\2328872808.py:2: SettingWithCopyWarning: \n",
      "A value is trying to be set on a copy of a slice from a DataFrame\n",
      "\n",
      "See the caveats in the documentation: https://pandas.pydata.org/pandas-docs/stable/user_guide/indexing.html#returning-a-view-versus-a-copy\n",
      "  df_cleaned['Foreign languages'].fillna('No', inplace=True)\n"
     ]
    },
    {
     "data": {
      "text/plain": [
       "Foreign languages\n",
       "Yes    403\n",
       "No     332\n",
       "Name: count, dtype: int64"
      ]
     },
     "execution_count": 20,
     "metadata": {},
     "output_type": "execute_result"
    }
   ],
   "source": [
    "# Replace NaN values in 'Foreign languages' column with 'No'\n",
    "df_cleaned['Foreign languages'].fillna('No', inplace=True)\n",
    "\n",
    "df_cleaned['Foreign languages'].value_counts()"
   ]
  },
  {
   "cell_type": "markdown",
   "id": "7b24a082",
   "metadata": {},
   "source": [
    "##### Music effects Column"
   ]
  },
  {
   "cell_type": "code",
   "execution_count": 21,
   "id": "122234e0",
   "metadata": {},
   "outputs": [
    {
     "data": {
      "text/plain": [
       "array([nan, 'No effect', 'Improve', 'Worsen'], dtype=object)"
      ]
     },
     "execution_count": 21,
     "metadata": {},
     "output_type": "execute_result"
    }
   ],
   "source": [
    "df_cleaned['Music effects'].unique()"
   ]
  },
  {
   "cell_type": "code",
   "execution_count": 22,
   "id": "bd678363",
   "metadata": {},
   "outputs": [
    {
     "name": "stderr",
     "output_type": "stream",
     "text": [
      "C:\\Users\\mafal\\AppData\\Local\\Temp\\ipykernel_9880\\3333509596.py:2: SettingWithCopyWarning: \n",
      "A value is trying to be set on a copy of a slice from a DataFrame\n",
      "\n",
      "See the caveats in the documentation: https://pandas.pydata.org/pandas-docs/stable/user_guide/indexing.html#returning-a-view-versus-a-copy\n",
      "  df_cleaned['Music effects'].fillna('No effect', inplace=True)\n"
     ]
    },
    {
     "data": {
      "text/plain": [
       "Music effects\n",
       "Improve      541\n",
       "No effect    177\n",
       "Worsen        17\n",
       "Name: count, dtype: int64"
      ]
     },
     "execution_count": 22,
     "metadata": {},
     "output_type": "execute_result"
    }
   ],
   "source": [
    "# Replace NaN values in 'Foreign languages' column with 'No'\n",
    "df_cleaned['Music effects'].fillna('No effect', inplace=True)\n",
    "\n",
    "df_cleaned['Music effects'].value_counts()"
   ]
  },
  {
   "cell_type": "markdown",
   "id": "f52fe762",
   "metadata": {},
   "source": [
    "##### BPM Column"
   ]
  },
  {
   "cell_type": "markdown",
   "id": "d7e1e62f",
   "metadata": {},
   "source": [
    "-------------------------------------------------------------------------------------------------------------------------------------------------------------------\n",
    "BPM stands for “beats per minute,” which is your heart rate.\n",
    "\n",
    "Since BPM depends on various factors such age and activity level, we'll be  imputing missing values using age-group means or medians:\n",
    "\n",
    "- Mean: Suitable for data without many outliers.\n",
    "- Median: Better choice for data with outliers, as it is less sensitive to them.\n",
    "\n",
    "-----------------------------------------------------------------------------------------------------------------------------------------------------------------"
   ]
  },
  {
   "cell_type": "code",
   "execution_count": 23,
   "id": "ec826232",
   "metadata": {},
   "outputs": [
    {
     "data": {
      "text/plain": [
       "0      156.0\n",
       "1      119.0\n",
       "2      132.0\n",
       "3       84.0\n",
       "4      107.0\n",
       "       ...  \n",
       "731    120.0\n",
       "732    160.0\n",
       "733    120.0\n",
       "734    170.0\n",
       "735     98.0\n",
       "Name: BPM, Length: 735, dtype: float64"
      ]
     },
     "execution_count": 23,
     "metadata": {},
     "output_type": "execute_result"
    }
   ],
   "source": [
    "df_cleaned['BPM']#.unique()"
   ]
  },
  {
   "cell_type": "code",
   "execution_count": 25,
   "id": "7023a7fc",
   "metadata": {},
   "outputs": [
    {
     "data": {
      "text/plain": [
       "dtype('float64')"
      ]
     },
     "execution_count": 25,
     "metadata": {},
     "output_type": "execute_result"
    }
   ],
   "source": [
    "df_cleaned['BPM'].dtype"
   ]
  },
  {
   "cell_type": "markdown",
   "id": "cc29695f",
   "metadata": {},
   "source": [
    "###### BPM - Visualizing the Distribution"
   ]
  },
  {
   "cell_type": "code",
   "execution_count": 27,
   "id": "71e64117",
   "metadata": {},
   "outputs": [
    {
     "data": {
      "image/png": "[encoded data removed]",
      "text/plain": [
       "<Figure size 640x480 with 1 Axes>"
      ]
     },
     "metadata": {},
     "output_type": "display_data"
    }
   ],
   "source": [
    "import seaborn as sns\n",
    "import matplotlib.pyplot as plt\n",
    "\n",
    "sample = df_cleaned['BPM'].dropna().sample(frac=0.1)  # Adjust `frac` as needed\n",
    "sns.histplot(sample, kde=True)\n",
    "plt.title('BPM Distribution (Sampled Data)')\n",
    "plt.show()"
   ]
  },
  {
   "cell_type": "code",
   "execution_count": 30,
   "id": "d4785252",
   "metadata": {},
   "outputs": [
    {
     "data": {
      "image/png": "[encoded data removed]",
      "text/plain": [
       "<Figure size 640x480 with 1 Axes>"
      ]
     },
     "metadata": {},
     "output_type": "display_data"
    }
   ],
   "source": [
    "# Boxplot\n",
    "sns.boxplot(x=df_cleaned['BPM'])\n",
    "plt.title('BPM Boxplot')\n",
    "plt.show()"
   ]
  },
  {
   "cell_type": "markdown",
   "id": "3e72441c",
   "metadata": {},
   "source": [
    "###### BPM - Statistical Method to Identify Outliers"
   ]
  },
  {
   "cell_type": "code",
   "execution_count": 31,
   "id": "f2c911f4",
   "metadata": {},
   "outputs": [
    {
     "name": "stdout",
     "output_type": "stream",
     "text": [
      "Outliers count: 11\n"
     ]
    }
   ],
   "source": [
    "Q1 = df_cleaned['BPM'].quantile(0.25)\n",
    "Q3 = df_cleaned['BPM'].quantile(0.75)\n",
    "IQR = Q3 - Q1\n",
    "\n",
    "lower_bound = Q1 - 1.5 * IQR\n",
    "upper_bound = Q3 + 1.5 * IQR\n",
    "\n",
    "# Identifying outliers\n",
    "outliers_df = df_cleaned[(df_cleaned['BPM'] < lower_bound) | (df_cleaned['BPM'] > upper_bound)]\n",
    "print(f\"Outliers count: {len(outliers_df)}\")"
   ]
  },
  {
   "cell_type": "markdown",
   "id": "8b9065d9",
   "metadata": {},
   "source": [
    "###### BPM - Filling NaN Values"
   ]
  },
  {
   "cell_type": "markdown",
   "id": "05777a5e",
   "metadata": {},
   "source": [
    "------------------------------------------------------------------------------------------------------------------------------------------------------\n",
    "Based on the observed distribution and the presence of outliers:\n",
    "\n",
    "- Use Median: If your data contains significant outliers or is not normally distributed, the median is more robust and representative of central tendency without being skewed by outliers.\n",
    "- Use Mean: If data is approximately normally distributed without significant outliers, the mean can accurately represent your data's central tendency.\n",
    "\n",
    "------------------------------------------------------------------------------------------------------------------------------------------------------"
   ]
  },
  {
   "cell_type": "code",
   "execution_count": 36,
   "id": "6b057efe",
   "metadata": {},
   "outputs": [
    {
     "name": "stderr",
     "output_type": "stream",
     "text": [
      "C:\\Users\\mafal\\AppData\\Local\\Temp\\ipykernel_9880\\874247583.py:3: SettingWithCopyWarning: \n",
      "A value is trying to be set on a copy of a slice from a DataFrame.\n",
      "Try using .loc[row_indexer,col_indexer] = value instead\n",
      "\n",
      "See the caveats in the documentation: https://pandas.pydata.org/pandas-docs/stable/user_guide/indexing.html#returning-a-view-versus-a-copy\n",
      "  df_cleaned['BPM'] = df_cleaned.groupby('Age')['BPM'].transform(lambda x: x.fillna(x.median()))\n"
     ]
    }
   ],
   "source": [
    "# Decision based on distribution analysis and outlier presence\n",
    "if len(outliers_df) > 0:\n",
    "    df_cleaned['BPM'] = df_cleaned.groupby('Age')['BPM'].transform(lambda x: x.fillna(x.median()))\n",
    "else:\n",
    "    df_cleaned['BPM'] = df_cleaned.groupby('Age')['BPM'].transform(lambda x: x.fillna(x.mean()))"
   ]
  },
  {
   "cell_type": "code",
   "execution_count": 37,
   "id": "9473def2",
   "metadata": {},
   "outputs": [
    {
     "data": {
      "text/plain": [
       "3"
      ]
     },
     "execution_count": 37,
     "metadata": {},
     "output_type": "execute_result"
    }
   ],
   "source": [
    "df_cleaned['BPM'].isna().sum()"
   ]
  },
  {
   "cell_type": "code",
   "execution_count": 34,
   "id": "9a8b429d",
   "metadata": {},
   "outputs": [
    {
     "data": {
      "text/plain": [
       "Timestamp                       0\n",
       "Age                             0\n",
       "Primary streaming service       0\n",
       "Hours per day                   0\n",
       "While working                   0\n",
       "Instrumentalist                 0\n",
       "Composer                        0\n",
       "Fav genre                       0\n",
       "Exploratory                     0\n",
       "Foreign languages               0\n",
       "BPM                             3\n",
       "Frequency [Classical]           0\n",
       "Frequency [Country]             0\n",
       "Frequency [EDM]                 0\n",
       "Frequency [Folk]                0\n",
       "Frequency [Gospel]              0\n",
       "Frequency [Hip hop]             0\n",
       "Frequency [Jazz]                0\n",
       "Frequency [K pop]               0\n",
       "Frequency [Latin]               0\n",
       "Frequency [Lofi]                0\n",
       "Frequency [Metal]               0\n",
       "Frequency [Pop]                 0\n",
       "Frequency [R&B]                 0\n",
       "Frequency [Rap]                 0\n",
       "Frequency [Rock]                0\n",
       "Frequency [Video game music]    0\n",
       "Anxiety                         0\n",
       "Depression                      0\n",
       "Insomnia                        0\n",
       "OCD                             0\n",
       "Music effects                   0\n",
       "Permissions                     0\n",
       "dtype: int64"
      ]
     },
     "execution_count": 34,
     "metadata": {},
     "output_type": "execute_result"
    }
   ],
   "source": [
    "df_cleaned.isnull().sum()"
   ]
  },
  {
   "cell_type": "code",
   "execution_count": 40,
   "id": "7f929ce1",
   "metadata": {},
   "outputs": [
    {
     "data": {
      "text/html": [
       "<div>\n",
       "<style scoped>\n",
       "    .dataframe tbody tr th:only-of-type {\n",
       "        vertical-align: middle;\n",
       "    }\n",
       "\n",
       "    .dataframe tbody tr th {\n",
       "        vertical-align: top;\n",
       "    }\n",
       "\n",
       "    .dataframe thead th {\n",
       "        text-align: right;\n",
       "    }\n",
       "</style>\n",
       "<table border=\"1\" class=\"dataframe\">\n",
       "  <thead>\n",
       "    <tr style=\"text-align: right;\">\n",
       "      <th></th>\n",
       "      <th>Timestamp</th>\n",
       "      <th>Age</th>\n",
       "      <th>Primary streaming service</th>\n",
       "      <th>Hours per day</th>\n",
       "      <th>While working</th>\n",
       "      <th>Instrumentalist</th>\n",
       "      <th>Composer</th>\n",
       "      <th>Fav genre</th>\n",
       "      <th>Exploratory</th>\n",
       "      <th>Foreign languages</th>\n",
       "      <th>...</th>\n",
       "      <th>Frequency [R&amp;B]</th>\n",
       "      <th>Frequency [Rap]</th>\n",
       "      <th>Frequency [Rock]</th>\n",
       "      <th>Frequency [Video game music]</th>\n",
       "      <th>Anxiety</th>\n",
       "      <th>Depression</th>\n",
       "      <th>Insomnia</th>\n",
       "      <th>OCD</th>\n",
       "      <th>Music effects</th>\n",
       "      <th>Permissions</th>\n",
       "    </tr>\n",
       "  </thead>\n",
       "  <tbody>\n",
       "    <tr>\n",
       "      <th>390</th>\n",
       "      <td>8/29/2022 18:56:27</td>\n",
       "      <td>54</td>\n",
       "      <td>Other</td>\n",
       "      <td>6.00</td>\n",
       "      <td>Yes</td>\n",
       "      <td>No</td>\n",
       "      <td>No</td>\n",
       "      <td>Classical</td>\n",
       "      <td>No</td>\n",
       "      <td>No</td>\n",
       "      <td>...</td>\n",
       "      <td>Sometimes</td>\n",
       "      <td>Rarely</td>\n",
       "      <td>Rarely</td>\n",
       "      <td>Never</td>\n",
       "      <td>2.0</td>\n",
       "      <td>2.0</td>\n",
       "      <td>3.0</td>\n",
       "      <td>2.0</td>\n",
       "      <td>Improve</td>\n",
       "      <td>I understand.</td>\n",
       "    </tr>\n",
       "    <tr>\n",
       "      <th>464</th>\n",
       "      <td>9/1/2022 15:36:18</td>\n",
       "      <td>54</td>\n",
       "      <td>YouTube Music</td>\n",
       "      <td>10.00</td>\n",
       "      <td>Yes</td>\n",
       "      <td>No</td>\n",
       "      <td>No</td>\n",
       "      <td>Rock</td>\n",
       "      <td>Yes</td>\n",
       "      <td>No</td>\n",
       "      <td>...</td>\n",
       "      <td>Sometimes</td>\n",
       "      <td>Never</td>\n",
       "      <td>Sometimes</td>\n",
       "      <td>Never</td>\n",
       "      <td>2.0</td>\n",
       "      <td>1.0</td>\n",
       "      <td>2.0</td>\n",
       "      <td>2.0</td>\n",
       "      <td>Improve</td>\n",
       "      <td>I understand.</td>\n",
       "    </tr>\n",
       "    <tr>\n",
       "      <th>490</th>\n",
       "      <td>9/1/2022 19:44:33</td>\n",
       "      <td>71</td>\n",
       "      <td>Other</td>\n",
       "      <td>0.25</td>\n",
       "      <td>Yes</td>\n",
       "      <td>No</td>\n",
       "      <td>No</td>\n",
       "      <td>Gospel</td>\n",
       "      <td>No</td>\n",
       "      <td>Yes</td>\n",
       "      <td>...</td>\n",
       "      <td>Rarely</td>\n",
       "      <td>Never</td>\n",
       "      <td>Rarely</td>\n",
       "      <td>Never</td>\n",
       "      <td>1.0</td>\n",
       "      <td>0.0</td>\n",
       "      <td>0.0</td>\n",
       "      <td>0.0</td>\n",
       "      <td>Improve</td>\n",
       "      <td>I understand.</td>\n",
       "    </tr>\n",
       "  </tbody>\n",
       "</table>\n",
       "<p>3 rows × 33 columns</p>\n",
       "</div>"
      ],
      "text/plain": [
       "              Timestamp  Age Primary streaming service  Hours per day  \\\n",
       "390  8/29/2022 18:56:27   54                     Other           6.00   \n",
       "464   9/1/2022 15:36:18   54             YouTube Music          10.00   \n",
       "490   9/1/2022 19:44:33   71                     Other           0.25   \n",
       "\n",
       "    While working Instrumentalist Composer  Fav genre Exploratory  \\\n",
       "390           Yes              No       No  Classical          No   \n",
       "464           Yes              No       No       Rock         Yes   \n",
       "490           Yes              No       No     Gospel          No   \n",
       "\n",
       "    Foreign languages  ...  Frequency [R&B] Frequency [Rap] Frequency [Rock]  \\\n",
       "390                No  ...        Sometimes          Rarely           Rarely   \n",
       "464                No  ...        Sometimes           Never        Sometimes   \n",
       "490               Yes  ...           Rarely           Never           Rarely   \n",
       "\n",
       "    Frequency [Video game music] Anxiety Depression Insomnia  OCD  \\\n",
       "390                        Never     2.0        2.0      3.0  2.0   \n",
       "464                        Never     2.0        1.0      2.0  2.0   \n",
       "490                        Never     1.0        0.0      0.0  0.0   \n",
       "\n",
       "    Music effects    Permissions  \n",
       "390       Improve  I understand.  \n",
       "464       Improve  I understand.  \n",
       "490       Improve  I understand.  \n",
       "\n",
       "[3 rows x 33 columns]"
      ]
     },
     "execution_count": 40,
     "metadata": {},
     "output_type": "execute_result"
    }
   ],
   "source": [
    "# Display rows where 'BPM' is NaN\n",
    "df_cleaned[df_cleaned['BPM'].isna()]"
   ]
  },
  {
   "cell_type": "code",
   "execution_count": 41,
   "id": "882ada79",
   "metadata": {},
   "outputs": [
    {
     "data": {
      "text/html": [
       "<div>\n",
       "<style scoped>\n",
       "    .dataframe tbody tr th:only-of-type {\n",
       "        vertical-align: middle;\n",
       "    }\n",
       "\n",
       "    .dataframe tbody tr th {\n",
       "        vertical-align: top;\n",
       "    }\n",
       "\n",
       "    .dataframe thead th {\n",
       "        text-align: right;\n",
       "    }\n",
       "</style>\n",
       "<table border=\"1\" class=\"dataframe\">\n",
       "  <thead>\n",
       "    <tr style=\"text-align: right;\">\n",
       "      <th></th>\n",
       "      <th>Timestamp</th>\n",
       "      <th>Age</th>\n",
       "      <th>Primary streaming service</th>\n",
       "      <th>Hours per day</th>\n",
       "      <th>While working</th>\n",
       "      <th>Instrumentalist</th>\n",
       "      <th>Composer</th>\n",
       "      <th>Fav genre</th>\n",
       "      <th>Exploratory</th>\n",
       "      <th>Foreign languages</th>\n",
       "      <th>...</th>\n",
       "      <th>Frequency [R&amp;B]</th>\n",
       "      <th>Frequency [Rap]</th>\n",
       "      <th>Frequency [Rock]</th>\n",
       "      <th>Frequency [Video game music]</th>\n",
       "      <th>Anxiety</th>\n",
       "      <th>Depression</th>\n",
       "      <th>Insomnia</th>\n",
       "      <th>OCD</th>\n",
       "      <th>Music effects</th>\n",
       "      <th>Permissions</th>\n",
       "    </tr>\n",
       "  </thead>\n",
       "  <tbody>\n",
       "    <tr>\n",
       "      <th>390</th>\n",
       "      <td>8/29/2022 18:56:27</td>\n",
       "      <td>54</td>\n",
       "      <td>Other</td>\n",
       "      <td>6.0</td>\n",
       "      <td>Yes</td>\n",
       "      <td>No</td>\n",
       "      <td>No</td>\n",
       "      <td>Classical</td>\n",
       "      <td>No</td>\n",
       "      <td>No</td>\n",
       "      <td>...</td>\n",
       "      <td>Sometimes</td>\n",
       "      <td>Rarely</td>\n",
       "      <td>Rarely</td>\n",
       "      <td>Never</td>\n",
       "      <td>2.0</td>\n",
       "      <td>2.0</td>\n",
       "      <td>3.0</td>\n",
       "      <td>2.0</td>\n",
       "      <td>Improve</td>\n",
       "      <td>I understand.</td>\n",
       "    </tr>\n",
       "    <tr>\n",
       "      <th>464</th>\n",
       "      <td>9/1/2022 15:36:18</td>\n",
       "      <td>54</td>\n",
       "      <td>YouTube Music</td>\n",
       "      <td>10.0</td>\n",
       "      <td>Yes</td>\n",
       "      <td>No</td>\n",
       "      <td>No</td>\n",
       "      <td>Rock</td>\n",
       "      <td>Yes</td>\n",
       "      <td>No</td>\n",
       "      <td>...</td>\n",
       "      <td>Sometimes</td>\n",
       "      <td>Never</td>\n",
       "      <td>Sometimes</td>\n",
       "      <td>Never</td>\n",
       "      <td>2.0</td>\n",
       "      <td>1.0</td>\n",
       "      <td>2.0</td>\n",
       "      <td>2.0</td>\n",
       "      <td>Improve</td>\n",
       "      <td>I understand.</td>\n",
       "    </tr>\n",
       "  </tbody>\n",
       "</table>\n",
       "<p>2 rows × 33 columns</p>\n",
       "</div>"
      ],
      "text/plain": [
       "              Timestamp  Age Primary streaming service  Hours per day  \\\n",
       "390  8/29/2022 18:56:27   54                     Other            6.0   \n",
       "464   9/1/2022 15:36:18   54             YouTube Music           10.0   \n",
       "\n",
       "    While working Instrumentalist Composer  Fav genre Exploratory  \\\n",
       "390           Yes              No       No  Classical          No   \n",
       "464           Yes              No       No       Rock         Yes   \n",
       "\n",
       "    Foreign languages  ...  Frequency [R&B] Frequency [Rap] Frequency [Rock]  \\\n",
       "390                No  ...        Sometimes          Rarely           Rarely   \n",
       "464                No  ...        Sometimes           Never        Sometimes   \n",
       "\n",
       "    Frequency [Video game music] Anxiety Depression Insomnia  OCD  \\\n",
       "390                        Never     2.0        2.0      3.0  2.0   \n",
       "464                        Never     2.0        1.0      2.0  2.0   \n",
       "\n",
       "    Music effects    Permissions  \n",
       "390       Improve  I understand.  \n",
       "464       Improve  I understand.  \n",
       "\n",
       "[2 rows x 33 columns]"
      ]
     },
     "execution_count": 41,
     "metadata": {},
     "output_type": "execute_result"
    }
   ],
   "source": [
    "# Display rows for the individuals with 54\n",
    "df_cleaned[df_cleaned['Age']==54]"
   ]
  },
  {
   "cell_type": "code",
   "execution_count": 42,
   "id": "077f81b1",
   "metadata": {},
   "outputs": [
    {
     "data": {
      "text/html": [
       "<div>\n",
       "<style scoped>\n",
       "    .dataframe tbody tr th:only-of-type {\n",
       "        vertical-align: middle;\n",
       "    }\n",
       "\n",
       "    .dataframe tbody tr th {\n",
       "        vertical-align: top;\n",
       "    }\n",
       "\n",
       "    .dataframe thead th {\n",
       "        text-align: right;\n",
       "    }\n",
       "</style>\n",
       "<table border=\"1\" class=\"dataframe\">\n",
       "  <thead>\n",
       "    <tr style=\"text-align: right;\">\n",
       "      <th></th>\n",
       "      <th>Timestamp</th>\n",
       "      <th>Age</th>\n",
       "      <th>Primary streaming service</th>\n",
       "      <th>Hours per day</th>\n",
       "      <th>While working</th>\n",
       "      <th>Instrumentalist</th>\n",
       "      <th>Composer</th>\n",
       "      <th>Fav genre</th>\n",
       "      <th>Exploratory</th>\n",
       "      <th>Foreign languages</th>\n",
       "      <th>...</th>\n",
       "      <th>Frequency [R&amp;B]</th>\n",
       "      <th>Frequency [Rap]</th>\n",
       "      <th>Frequency [Rock]</th>\n",
       "      <th>Frequency [Video game music]</th>\n",
       "      <th>Anxiety</th>\n",
       "      <th>Depression</th>\n",
       "      <th>Insomnia</th>\n",
       "      <th>OCD</th>\n",
       "      <th>Music effects</th>\n",
       "      <th>Permissions</th>\n",
       "    </tr>\n",
       "  </thead>\n",
       "  <tbody>\n",
       "    <tr>\n",
       "      <th>490</th>\n",
       "      <td>9/1/2022 19:44:33</td>\n",
       "      <td>71</td>\n",
       "      <td>Other</td>\n",
       "      <td>0.25</td>\n",
       "      <td>Yes</td>\n",
       "      <td>No</td>\n",
       "      <td>No</td>\n",
       "      <td>Gospel</td>\n",
       "      <td>No</td>\n",
       "      <td>Yes</td>\n",
       "      <td>...</td>\n",
       "      <td>Rarely</td>\n",
       "      <td>Never</td>\n",
       "      <td>Rarely</td>\n",
       "      <td>Never</td>\n",
       "      <td>1.0</td>\n",
       "      <td>0.0</td>\n",
       "      <td>0.0</td>\n",
       "      <td>0.0</td>\n",
       "      <td>Improve</td>\n",
       "      <td>I understand.</td>\n",
       "    </tr>\n",
       "  </tbody>\n",
       "</table>\n",
       "<p>1 rows × 33 columns</p>\n",
       "</div>"
      ],
      "text/plain": [
       "             Timestamp  Age Primary streaming service  Hours per day  \\\n",
       "490  9/1/2022 19:44:33   71                     Other           0.25   \n",
       "\n",
       "    While working Instrumentalist Composer Fav genre Exploratory  \\\n",
       "490           Yes              No       No    Gospel          No   \n",
       "\n",
       "    Foreign languages  ...  Frequency [R&B] Frequency [Rap] Frequency [Rock]  \\\n",
       "490               Yes  ...           Rarely           Never           Rarely   \n",
       "\n",
       "    Frequency [Video game music] Anxiety Depression Insomnia  OCD  \\\n",
       "490                        Never     1.0        0.0      0.0  0.0   \n",
       "\n",
       "    Music effects    Permissions  \n",
       "490       Improve  I understand.  \n",
       "\n",
       "[1 rows x 33 columns]"
      ]
     },
     "execution_count": 42,
     "metadata": {},
     "output_type": "execute_result"
    }
   ],
   "source": [
    "# Display rows for the individuals with 54\n",
    "df_cleaned[df_cleaned['Age']==71]"
   ]
  },
  {
   "cell_type": "code",
   "execution_count": 49,
   "id": "60a95e7b",
   "metadata": {},
   "outputs": [
    {
     "data": {
      "text/html": [
       "<div>\n",
       "<style scoped>\n",
       "    .dataframe tbody tr th:only-of-type {\n",
       "        vertical-align: middle;\n",
       "    }\n",
       "\n",
       "    .dataframe tbody tr th {\n",
       "        vertical-align: top;\n",
       "    }\n",
       "\n",
       "    .dataframe thead th {\n",
       "        text-align: right;\n",
       "    }\n",
       "</style>\n",
       "<table border=\"1\" class=\"dataframe\">\n",
       "  <thead>\n",
       "    <tr style=\"text-align: right;\">\n",
       "      <th></th>\n",
       "      <th>Age</th>\n",
       "      <th>BPM</th>\n",
       "    </tr>\n",
       "  </thead>\n",
       "  <tbody>\n",
       "    <tr>\n",
       "      <th>143</th>\n",
       "      <td>53</td>\n",
       "      <td>92.0</td>\n",
       "    </tr>\n",
       "    <tr>\n",
       "      <th>237</th>\n",
       "      <td>53</td>\n",
       "      <td>92.0</td>\n",
       "    </tr>\n",
       "    <tr>\n",
       "      <th>390</th>\n",
       "      <td>54</td>\n",
       "      <td>NaN</td>\n",
       "    </tr>\n",
       "    <tr>\n",
       "      <th>464</th>\n",
       "      <td>54</td>\n",
       "      <td>NaN</td>\n",
       "    </tr>\n",
       "    <tr>\n",
       "      <th>512</th>\n",
       "      <td>51</td>\n",
       "      <td>180.0</td>\n",
       "    </tr>\n",
       "    <tr>\n",
       "      <th>537</th>\n",
       "      <td>50</td>\n",
       "      <td>98.0</td>\n",
       "    </tr>\n",
       "    <tr>\n",
       "      <th>570</th>\n",
       "      <td>53</td>\n",
       "      <td>153.0</td>\n",
       "    </tr>\n",
       "  </tbody>\n",
       "</table>\n",
       "</div>"
      ],
      "text/plain": [
       "     Age    BPM\n",
       "143   53   92.0\n",
       "237   53   92.0\n",
       "390   54    NaN\n",
       "464   54    NaN\n",
       "512   51  180.0\n",
       "537   50   98.0\n",
       "570   53  153.0"
      ]
     },
     "execution_count": 49,
     "metadata": {},
     "output_type": "execute_result"
    }
   ],
   "source": [
    "# Display rows for the individuals with 54\n",
    "df_cleaned[(df_cleaned['Age'] < 55) & (df_cleaned['Age'] >= 50)][['Age', 'BPM']]"
   ]
  },
  {
   "cell_type": "code",
   "execution_count": 48,
   "id": "62093925",
   "metadata": {},
   "outputs": [
    {
     "data": {
      "text/html": [
       "<div>\n",
       "<style scoped>\n",
       "    .dataframe tbody tr th:only-of-type {\n",
       "        vertical-align: middle;\n",
       "    }\n",
       "\n",
       "    .dataframe tbody tr th {\n",
       "        vertical-align: top;\n",
       "    }\n",
       "\n",
       "    .dataframe thead th {\n",
       "        text-align: right;\n",
       "    }\n",
       "</style>\n",
       "<table border=\"1\" class=\"dataframe\">\n",
       "  <thead>\n",
       "    <tr style=\"text-align: right;\">\n",
       "      <th></th>\n",
       "      <th>Age</th>\n",
       "      <th>BPM</th>\n",
       "    </tr>\n",
       "  </thead>\n",
       "  <tbody>\n",
       "    <tr>\n",
       "      <th>428</th>\n",
       "      <td>72</td>\n",
       "      <td>77.0</td>\n",
       "    </tr>\n",
       "    <tr>\n",
       "      <th>429</th>\n",
       "      <td>73</td>\n",
       "      <td>4.0</td>\n",
       "    </tr>\n",
       "    <tr>\n",
       "      <th>476</th>\n",
       "      <td>70</td>\n",
       "      <td>88.0</td>\n",
       "    </tr>\n",
       "    <tr>\n",
       "      <th>490</th>\n",
       "      <td>71</td>\n",
       "      <td>NaN</td>\n",
       "    </tr>\n",
       "    <tr>\n",
       "      <th>494</th>\n",
       "      <td>74</td>\n",
       "      <td>129.0</td>\n",
       "    </tr>\n",
       "  </tbody>\n",
       "</table>\n",
       "</div>"
      ],
      "text/plain": [
       "     Age    BPM\n",
       "428   72   77.0\n",
       "429   73    4.0\n",
       "476   70   88.0\n",
       "490   71    NaN\n",
       "494   74  129.0"
      ]
     },
     "execution_count": 48,
     "metadata": {},
     "output_type": "execute_result"
    }
   ],
   "source": [
    "# Display rows for the individuals with 54\n",
    "df_cleaned[(df_cleaned['Age'] < 75) & (df_cleaned['Age'] >= 70)][['Age', 'BPM']]"
   ]
  },
  {
   "cell_type": "markdown",
   "id": "7a585a5c",
   "metadata": {},
   "source": [
    "------------------------------------------------------------------------------------------------------------------------\n",
    "Because people with 54 and 60 have no registration of BPM, we'll be replacing with the median of their group of age:\n",
    "- 54: median of ages between 50 and 54\n",
    "- 71: median of ages between 70 and 75\n",
    "\n",
    "-------------------------------------------------------------------------------------------------------------------------\n"
   ]
  },
  {
   "cell_type": "code",
   "execution_count": 50,
   "id": "e17e48b9",
   "metadata": {},
   "outputs": [],
   "source": [
    "\n",
    "# Step 1: Calculate the median BPM of the subset (ages > 50 and < 54)\n",
    "median_bpm = df_cleaned[(df_cleaned['Age'] > 50) & (df_cleaned['Age'] < 54)]['BPM'].median()\n",
    "\n",
    "# Step 2: Replace the BPM values of 54-year-old individuals with the median BPM\n",
    "df_cleaned.loc[df_cleaned['Age'] == 54, 'BPM'] = median_bpm"
   ]
  },
  {
   "cell_type": "code",
   "execution_count": 51,
   "id": "61e83cc8",
   "metadata": {},
   "outputs": [],
   "source": [
    "# Step 1: Calculate the median BPM of the subset (ages > 50 and < 54)\n",
    "median_bpm = df_cleaned[(df_cleaned['Age'] > 70) & (df_cleaned['Age'] < 75)]['BPM'].median()\n",
    "\n",
    "# Step 2: Replace the BPM values of 54-year-old individuals with the median BPM\n",
    "df_cleaned.loc[df_cleaned['Age'] == 71, 'BPM'] = median_bpm"
   ]
  },
  {
   "cell_type": "code",
   "execution_count": 53,
   "id": "cbd568d6",
   "metadata": {},
   "outputs": [
    {
     "data": {
      "text/html": [
       "<div>\n",
       "<style scoped>\n",
       "    .dataframe tbody tr th:only-of-type {\n",
       "        vertical-align: middle;\n",
       "    }\n",
       "\n",
       "    .dataframe tbody tr th {\n",
       "        vertical-align: top;\n",
       "    }\n",
       "\n",
       "    .dataframe thead th {\n",
       "        text-align: right;\n",
       "    }\n",
       "</style>\n",
       "<table border=\"1\" class=\"dataframe\">\n",
       "  <thead>\n",
       "    <tr style=\"text-align: right;\">\n",
       "      <th></th>\n",
       "      <th>Age</th>\n",
       "      <th>BPM</th>\n",
       "    </tr>\n",
       "  </thead>\n",
       "  <tbody>\n",
       "    <tr>\n",
       "      <th>390</th>\n",
       "      <td>54</td>\n",
       "      <td>122.5</td>\n",
       "    </tr>\n",
       "    <tr>\n",
       "      <th>464</th>\n",
       "      <td>54</td>\n",
       "      <td>122.5</td>\n",
       "    </tr>\n",
       "    <tr>\n",
       "      <th>490</th>\n",
       "      <td>71</td>\n",
       "      <td>77.0</td>\n",
       "    </tr>\n",
       "  </tbody>\n",
       "</table>\n",
       "</div>"
      ],
      "text/plain": [
       "     Age    BPM\n",
       "390   54  122.5\n",
       "464   54  122.5\n",
       "490   71   77.0"
      ]
     },
     "execution_count": 53,
     "metadata": {},
     "output_type": "execute_result"
    }
   ],
   "source": [
    "# Display rows for the individuals with 54\n",
    "df_cleaned[(df_cleaned['Age'] == 54) | (df_cleaned['Age'] == 71)][['Age', 'BPM']]"
   ]
  },
  {
   "cell_type": "markdown",
   "id": "9cffa7f8",
   "metadata": {},
   "source": [
    "##### 1.2 Renaming columns"
   ]
  },
  {
   "cell_type": "code",
   "execution_count": 54,
   "id": "8b9e6e3a",
   "metadata": {},
   "outputs": [
    {
     "data": {
      "text/plain": [
       "Index(['timestamp', 'age', 'primary_streaming_service', 'hours_per_day',\n",
       "       'while_working', 'instrumentalist', 'composer', 'fav_genre',\n",
       "       'exploratory', 'foreign_languages', 'bpm', 'freq_classical',\n",
       "       'freq_country', 'freq_edm', 'freq_folk', 'freq_gospel', 'freq_hip_hop',\n",
       "       'freq_jazz', 'freq_k_pop', 'freq_latin', 'freq_lofi', 'freq_metal',\n",
       "       'freq_pop', 'freq_r&b', 'freq_rap', 'freq_rock',\n",
       "       'freq_video_game_music', 'anxiety', 'depression', 'insomnia', 'ocd',\n",
       "       'music_effects', 'permissions'],\n",
       "      dtype='object')"
      ]
     },
     "execution_count": 54,
     "metadata": {},
     "output_type": "execute_result"
    }
   ],
   "source": [
    "import re\n",
    "\n",
    "# Function to apply custom naming pattern\n",
    "def custom_rename(column_name):\n",
    "    # Convert to lowercase and replace spaces with underscores for all names\n",
    "    new_name = column_name.lower().replace(' ', '_')\n",
    "    \n",
    "    # Apply regular expression for 'frequency_[genre]' renaming\n",
    "    new_name = re.sub(r'frequency_\\[(.*?)\\]', r'freq_\\1', new_name)\n",
    "    \n",
    "    return new_name\n",
    "\n",
    "# Apply the custom_rename function to each column name\n",
    "df_cleaned.columns = [custom_rename(col) for col in df_cleaned.columns]\n",
    "\n",
    "df_cleaned.columns"
   ]
  },
  {
   "cell_type": "markdown",
   "id": "2eb739ec",
   "metadata": {},
   "source": [
    "##### 1.3 Checking for Outliers"
   ]
  },
  {
   "cell_type": "code",
   "execution_count": 81,
   "id": "dd762cf0",
   "metadata": {},
   "outputs": [
    {
     "name": "stdout",
     "output_type": "stream",
     "text": [
      "['age', 'hours_per_day', 'bpm', 'anxiety', 'depression', 'insomnia', 'ocd']\n"
     ]
    }
   ],
   "source": [
    "# Select columns with numerical data types\n",
    "numerical_df = df_cleaned.select_dtypes(include=['int32', 'int64', 'float64'])\n",
    "\n",
    "# Now you have a DataFrame `numerical_df` with only numerical columns\n",
    "# To get just the names of these columns\n",
    "numerical_cols = numerical_df.columns.tolist()\n",
    "print(numerical_cols)"
   ]
  },
  {
   "cell_type": "code",
   "execution_count": 82,
   "id": "64721f1d",
   "metadata": {},
   "outputs": [
    {
     "data": {
      "text/plain": [
       "{'age': Index([  1,   3, 143, 162, 170, 203, 229, 237, 305, 310, 324, 376, 390, 401,\n",
       "        404, 410, 415, 428, 429, 453, 456, 464, 470, 473, 474, 475, 476, 477,\n",
       "        480, 483, 485, 486, 490, 491, 494, 508, 510, 512, 513, 514, 518, 522,\n",
       "        523, 527, 529, 532, 533, 537, 539, 567, 570, 582, 591, 603, 610, 624,\n",
       "        635, 695, 703],\n",
       "       dtype='int64'),\n",
       " 'hours_per_day': Index([ 17,  18,  26,  53,  77,  95, 125, 142, 164, 223, 257, 280, 290, 320,\n",
       "        336, 341, 347, 357, 359, 366, 407, 417, 420, 426, 464, 465, 466, 485,\n",
       "        586, 587, 589, 598, 611, 638, 655, 659, 672, 673, 695, 726],\n",
       "       dtype='int64'),\n",
       " 'bpm': Index([ 97, 124, 157, 164, 229, 248, 296, 309, 353, 370, 376, 417, 498, 514,\n",
       "        564, 568, 610, 644, 662, 711],\n",
       "       dtype='int64'),\n",
       " 'anxiety': Index([], dtype='int64'),\n",
       " 'depression': Index([], dtype='int64'),\n",
       " 'insomnia': Index([], dtype='int64'),\n",
       " 'ocd': Index([], dtype='int64')}"
      ]
     },
     "execution_count": 82,
     "metadata": {},
     "output_type": "execute_result"
    }
   ],
   "source": [
    "# Dictionary to store outlier indices for each numerical column\n",
    "outliers_indices = {}\n",
    "\n",
    "for col in numerical_cols:\n",
    "    Q1 = df_cleaned[col].quantile(0.25)\n",
    "    Q3 = df_cleaned[col].quantile(0.75)\n",
    "    IQR = Q3 - Q1\n",
    "    lower_bound = Q1 - 1.5 * IQR\n",
    "    upper_bound = Q3 + 1.5 * IQR\n",
    "    \n",
    "    # Get indices of outliers\n",
    "    outliers_mask = (df_cleaned[col] < lower_bound) | (df_cleaned[col] > upper_bound)\n",
    "    outliers_indices[col] = df_cleaned.loc[outliers_mask].index\n",
    "\n",
    "outliers_indices"
   ]
  },
  {
   "cell_type": "markdown",
   "id": "2aa8d60a",
   "metadata": {},
   "source": [
    "------------------------------------------------------------------------------------------------------------------------------------------------\n",
    "\"The lowest resting heart beat on record is 27 bpm belonging to Martin Brady (UK, b. 24 March 1969) who was tested at the Guernsey Chest and Heart Unit, Channel Islands on 11 August 2005.\"\n",
    "\n",
    "- https://www.guinnessworldrecords.com/world-records/lowest-heart-rate\n",
    "\n",
    "------------------------------------------------------------------------------------------------------------------------------------------------\n",
    "\n",
    "\"Doctors consider a low heart rate to be 60 beats per minute (bpm) and below. In fact, if you have bradycardia, you’ll have a low resting heart rate below 60, even when you’re awake and active. In contrast, a normal range is 60 to 100 bpm while awake.\n",
    "\n",
    "It’s very possible to have a slow heart rate and experience no symptoms. However, if you have symptoms but ignore them, it can sometimes cause more serious problems.\n",
    "\n",
    "- https://health.clevelandclinic.org/is-a-slow-heart-rate-good-or-bad-for-you\n",
    "\n",
    "-------------------------------------------------------------------------------------------------------------------------------------------------"
   ]
  },
  {
   "cell_type": "code",
   "execution_count": 61,
   "id": "5d99238a",
   "metadata": {},
   "outputs": [
    {
     "name": "stdout",
     "output_type": "stream",
     "text": [
      "The minimum bpm value is: 0.0\n"
     ]
    }
   ],
   "source": [
    "# Calculate the minimum value of the 'bpm' column\n",
    "min_bpm = df_cleaned['bpm'].min()\n",
    "\n",
    "print(f\"The minimum bpm value is: {min_bpm}\")"
   ]
  },
  {
   "cell_type": "code",
   "execution_count": 63,
   "id": "af878e70",
   "metadata": {},
   "outputs": [
    {
     "data": {
      "text/html": [
       "<div>\n",
       "<style scoped>\n",
       "    .dataframe tbody tr th:only-of-type {\n",
       "        vertical-align: middle;\n",
       "    }\n",
       "\n",
       "    .dataframe tbody tr th {\n",
       "        vertical-align: top;\n",
       "    }\n",
       "\n",
       "    .dataframe thead th {\n",
       "        text-align: right;\n",
       "    }\n",
       "</style>\n",
       "<table border=\"1\" class=\"dataframe\">\n",
       "  <thead>\n",
       "    <tr style=\"text-align: right;\">\n",
       "      <th></th>\n",
       "      <th>age</th>\n",
       "      <th>bpm</th>\n",
       "      <th>fav_genre</th>\n",
       "    </tr>\n",
       "  </thead>\n",
       "  <tbody>\n",
       "    <tr>\n",
       "      <th>58</th>\n",
       "      <td>23</td>\n",
       "      <td>55.0</td>\n",
       "      <td>Folk</td>\n",
       "    </tr>\n",
       "    <tr>\n",
       "      <th>214</th>\n",
       "      <td>19</td>\n",
       "      <td>52.0</td>\n",
       "      <td>Rock</td>\n",
       "    </tr>\n",
       "    <tr>\n",
       "      <th>339</th>\n",
       "      <td>35</td>\n",
       "      <td>0.0</td>\n",
       "      <td>Folk</td>\n",
       "    </tr>\n",
       "    <tr>\n",
       "      <th>372</th>\n",
       "      <td>18</td>\n",
       "      <td>20.0</td>\n",
       "      <td>Hip hop</td>\n",
       "    </tr>\n",
       "    <tr>\n",
       "      <th>421</th>\n",
       "      <td>14</td>\n",
       "      <td>40.0</td>\n",
       "      <td>Classical</td>\n",
       "    </tr>\n",
       "    <tr>\n",
       "      <th>427</th>\n",
       "      <td>31</td>\n",
       "      <td>55.0</td>\n",
       "      <td>Classical</td>\n",
       "    </tr>\n",
       "    <tr>\n",
       "      <th>429</th>\n",
       "      <td>73</td>\n",
       "      <td>4.0</td>\n",
       "      <td>R&amp;B</td>\n",
       "    </tr>\n",
       "    <tr>\n",
       "      <th>524</th>\n",
       "      <td>28</td>\n",
       "      <td>0.0</td>\n",
       "      <td>Metal</td>\n",
       "    </tr>\n",
       "    <tr>\n",
       "      <th>567</th>\n",
       "      <td>68</td>\n",
       "      <td>8.0</td>\n",
       "      <td>Gospel</td>\n",
       "    </tr>\n",
       "    <tr>\n",
       "      <th>594</th>\n",
       "      <td>18</td>\n",
       "      <td>56.0</td>\n",
       "      <td>Gospel</td>\n",
       "    </tr>\n",
       "    <tr>\n",
       "      <th>639</th>\n",
       "      <td>30</td>\n",
       "      <td>0.0</td>\n",
       "      <td>Metal</td>\n",
       "    </tr>\n",
       "  </tbody>\n",
       "</table>\n",
       "</div>"
      ],
      "text/plain": [
       "     age   bpm  fav_genre\n",
       "58    23  55.0       Folk\n",
       "214   19  52.0       Rock\n",
       "339   35   0.0       Folk\n",
       "372   18  20.0    Hip hop\n",
       "421   14  40.0  Classical\n",
       "427   31  55.0  Classical\n",
       "429   73   4.0        R&B\n",
       "524   28   0.0      Metal\n",
       "567   68   8.0     Gospel\n",
       "594   18  56.0     Gospel\n",
       "639   30   0.0      Metal"
      ]
     },
     "execution_count": 63,
     "metadata": {},
     "output_type": "execute_result"
    }
   ],
   "source": [
    "df_cleaned[df_cleaned['bpm'] < 60][['age', 'bpm', 'fav_genre']]"
   ]
  },
  {
   "cell_type": "markdown",
   "id": "50f37a51",
   "metadata": {},
   "source": [
    "-----------------------------------------------------------------------------------\n",
    "For accuracy we'll be replacing the above bpm's with 60 bpm.\n",
    "\n",
    "-----------------------------------------------------------------------------------"
   ]
  },
  {
   "cell_type": "code",
   "execution_count": 64,
   "id": "c2ff3a3b",
   "metadata": {},
   "outputs": [
    {
     "data": {
      "text/html": [
       "<div>\n",
       "<style scoped>\n",
       "    .dataframe tbody tr th:only-of-type {\n",
       "        vertical-align: middle;\n",
       "    }\n",
       "\n",
       "    .dataframe tbody tr th {\n",
       "        vertical-align: top;\n",
       "    }\n",
       "\n",
       "    .dataframe thead th {\n",
       "        text-align: right;\n",
       "    }\n",
       "</style>\n",
       "<table border=\"1\" class=\"dataframe\">\n",
       "  <thead>\n",
       "    <tr style=\"text-align: right;\">\n",
       "      <th></th>\n",
       "      <th>age</th>\n",
       "      <th>bpm</th>\n",
       "      <th>fav_genre</th>\n",
       "    </tr>\n",
       "  </thead>\n",
       "  <tbody>\n",
       "  </tbody>\n",
       "</table>\n",
       "</div>"
      ],
      "text/plain": [
       "Empty DataFrame\n",
       "Columns: [age, bpm, fav_genre]\n",
       "Index: []"
      ]
     },
     "execution_count": 64,
     "metadata": {},
     "output_type": "execute_result"
    }
   ],
   "source": [
    "# Replacing the 11 outliers bpm \n",
    "df_cleaned.loc[df_cleaned['bpm'] < 60, 'bpm'] = 60\n",
    "\n",
    "df_cleaned[df_cleaned['bpm'] < 60][['age', 'bpm', 'fav_genre']]"
   ]
  },
  {
   "cell_type": "code",
   "execution_count": 65,
   "id": "61d07207",
   "metadata": {},
   "outputs": [
    {
     "data": {
      "text/html": [
       "<div>\n",
       "<style scoped>\n",
       "    .dataframe tbody tr th:only-of-type {\n",
       "        vertical-align: middle;\n",
       "    }\n",
       "\n",
       "    .dataframe tbody tr th {\n",
       "        vertical-align: top;\n",
       "    }\n",
       "\n",
       "    .dataframe thead th {\n",
       "        text-align: right;\n",
       "    }\n",
       "</style>\n",
       "<table border=\"1\" class=\"dataframe\">\n",
       "  <thead>\n",
       "    <tr style=\"text-align: right;\">\n",
       "      <th></th>\n",
       "      <th>age</th>\n",
       "      <th>bpm</th>\n",
       "      <th>fav_genre</th>\n",
       "    </tr>\n",
       "  </thead>\n",
       "  <tbody>\n",
       "    <tr>\n",
       "      <th>58</th>\n",
       "      <td>23</td>\n",
       "      <td>60.0</td>\n",
       "      <td>Folk</td>\n",
       "    </tr>\n",
       "    <tr>\n",
       "      <th>158</th>\n",
       "      <td>41</td>\n",
       "      <td>60.0</td>\n",
       "      <td>Pop</td>\n",
       "    </tr>\n",
       "    <tr>\n",
       "      <th>214</th>\n",
       "      <td>19</td>\n",
       "      <td>60.0</td>\n",
       "      <td>Rock</td>\n",
       "    </tr>\n",
       "    <tr>\n",
       "      <th>277</th>\n",
       "      <td>20</td>\n",
       "      <td>60.0</td>\n",
       "      <td>Video game music</td>\n",
       "    </tr>\n",
       "    <tr>\n",
       "      <th>339</th>\n",
       "      <td>35</td>\n",
       "      <td>60.0</td>\n",
       "      <td>Folk</td>\n",
       "    </tr>\n",
       "    <tr>\n",
       "      <th>372</th>\n",
       "      <td>18</td>\n",
       "      <td>60.0</td>\n",
       "      <td>Hip hop</td>\n",
       "    </tr>\n",
       "    <tr>\n",
       "      <th>421</th>\n",
       "      <td>14</td>\n",
       "      <td>60.0</td>\n",
       "      <td>Classical</td>\n",
       "    </tr>\n",
       "    <tr>\n",
       "      <th>427</th>\n",
       "      <td>31</td>\n",
       "      <td>60.0</td>\n",
       "      <td>Classical</td>\n",
       "    </tr>\n",
       "    <tr>\n",
       "      <th>429</th>\n",
       "      <td>73</td>\n",
       "      <td>60.0</td>\n",
       "      <td>R&amp;B</td>\n",
       "    </tr>\n",
       "    <tr>\n",
       "      <th>524</th>\n",
       "      <td>28</td>\n",
       "      <td>60.0</td>\n",
       "      <td>Metal</td>\n",
       "    </tr>\n",
       "    <tr>\n",
       "      <th>567</th>\n",
       "      <td>68</td>\n",
       "      <td>60.0</td>\n",
       "      <td>Gospel</td>\n",
       "    </tr>\n",
       "    <tr>\n",
       "      <th>594</th>\n",
       "      <td>18</td>\n",
       "      <td>60.0</td>\n",
       "      <td>Gospel</td>\n",
       "    </tr>\n",
       "    <tr>\n",
       "      <th>639</th>\n",
       "      <td>30</td>\n",
       "      <td>60.0</td>\n",
       "      <td>Metal</td>\n",
       "    </tr>\n",
       "  </tbody>\n",
       "</table>\n",
       "</div>"
      ],
      "text/plain": [
       "     age   bpm         fav_genre\n",
       "58    23  60.0              Folk\n",
       "158   41  60.0               Pop\n",
       "214   19  60.0              Rock\n",
       "277   20  60.0  Video game music\n",
       "339   35  60.0              Folk\n",
       "372   18  60.0           Hip hop\n",
       "421   14  60.0         Classical\n",
       "427   31  60.0         Classical\n",
       "429   73  60.0               R&B\n",
       "524   28  60.0             Metal\n",
       "567   68  60.0            Gospel\n",
       "594   18  60.0            Gospel\n",
       "639   30  60.0             Metal"
      ]
     },
     "execution_count": 65,
     "metadata": {},
     "output_type": "execute_result"
    }
   ],
   "source": [
    "df_cleaned[df_cleaned['bpm'] == 60][['age', 'bpm', 'fav_genre']]"
   ]
  },
  {
   "cell_type": "code",
   "execution_count": 57,
   "id": "18ea9531",
   "metadata": {},
   "outputs": [
    {
     "name": "stdout",
     "output_type": "stream",
     "text": [
      "['timestamp', 'primary_streaming_service', 'while_working', 'instrumentalist', 'composer', 'fav_genre', 'exploratory', 'foreign_languages', 'freq_classical', 'freq_country', 'freq_edm', 'freq_folk', 'freq_gospel', 'freq_hip_hop', 'freq_jazz', 'freq_k_pop', 'freq_latin', 'freq_lofi', 'freq_metal', 'freq_pop', 'freq_r&b', 'freq_rap', 'freq_rock', 'freq_video_game_music', 'music_effects', 'permissions']\n"
     ]
    }
   ],
   "source": [
    "# Select columns with numerical data types\n",
    "categorical_df = df_cleaned.select_dtypes(include=['object'])\n",
    "\n",
    "# Now you have a DataFrame `numerical_df` with only numerical columns\n",
    "# To get just the names of these columns\n",
    "categorical_cols = categorical_df.columns.tolist()\n",
    "print(categorical_cols)"
   ]
  },
  {
   "cell_type": "code",
   "execution_count": 60,
   "id": "8458ceec",
   "metadata": {},
   "outputs": [
    {
     "name": "stdout",
     "output_type": "stream",
     "text": [
      "timestamp\n",
      "8/28/2022 16:15:08    2\n",
      "8/27/2022 19:29:02    1\n",
      "9/1/2022 21:14:09     1\n",
      "9/1/2022 19:36:54     1\n",
      "9/1/2022 19:39:07     1\n",
      "                     ..\n",
      "8/28/2022 23:34:37    1\n",
      "8/28/2022 23:40:54    1\n",
      "8/28/2022 23:42:24    1\n",
      "8/28/2022 23:47:13    1\n",
      "11/9/2022 1:55:20     1\n",
      "Name: count, Length: 734, dtype: int64\n",
      "\n",
      "primary_streaming_service\n",
      "Spotify          457\n",
      "Other            122\n",
      "YouTube Music     94\n",
      "Apple Music       51\n",
      "Pandora           11\n",
      "Name: count, dtype: int64\n",
      "\n",
      "while_working\n",
      "Yes    578\n",
      "No     157\n",
      "Name: count, dtype: int64\n",
      "\n",
      "instrumentalist\n",
      "No     500\n",
      "Yes    235\n",
      "Name: count, dtype: int64\n",
      "\n",
      "composer\n",
      "No     609\n",
      "Yes    126\n",
      "Name: count, dtype: int64\n",
      "\n",
      "fav_genre\n",
      "Rock                188\n",
      "Pop                 114\n",
      "Metal                88\n",
      "Classical            53\n",
      "Video game music     44\n",
      "EDM                  37\n",
      "R&B                  35\n",
      "Hip hop              34\n",
      "Folk                 30\n",
      "K pop                26\n",
      "Country              25\n",
      "Rap                  22\n",
      "Jazz                 20\n",
      "Lofi                 10\n",
      "Gospel                6\n",
      "Latin                 3\n",
      "Name: count, dtype: int64\n",
      "\n",
      "exploratory\n",
      "Yes    524\n",
      "No     211\n",
      "Name: count, dtype: int64\n",
      "\n",
      "foreign_languages\n",
      "Yes    403\n",
      "No     332\n",
      "Name: count, dtype: int64\n",
      "\n",
      "freq_classical\n",
      "Rarely             258\n",
      "Sometimes          200\n",
      "Never              169\n",
      "Very frequently    108\n",
      "Name: count, dtype: int64\n",
      "\n",
      "freq_country\n",
      "Never              342\n",
      "Rarely             233\n",
      "Sometimes          111\n",
      "Very frequently     49\n",
      "Name: count, dtype: int64\n",
      "\n",
      "freq_edm\n",
      "Never              307\n",
      "Rarely             193\n",
      "Sometimes          146\n",
      "Very frequently     89\n",
      "Name: count, dtype: int64\n",
      "\n",
      "freq_folk\n",
      "Never              291\n",
      "Rarely             221\n",
      "Sometimes          145\n",
      "Very frequently     78\n",
      "Name: count, dtype: int64\n",
      "\n",
      "freq_gospel\n",
      "Never              534\n",
      "Rarely             135\n",
      "Sometimes           52\n",
      "Very frequently     14\n",
      "Name: count, dtype: int64\n",
      "\n",
      "freq_hip_hop\n",
      "Sometimes          218\n",
      "Rarely             214\n",
      "Never              181\n",
      "Very frequently    122\n",
      "Name: count, dtype: int64\n",
      "\n",
      "freq_jazz\n",
      "Never              260\n",
      "Rarely             247\n",
      "Sometimes          175\n",
      "Very frequently     53\n",
      "Name: count, dtype: int64\n",
      "\n",
      "freq_k_pop\n",
      "Never              416\n",
      "Rarely             176\n",
      "Very frequently     77\n",
      "Sometimes           66\n",
      "Name: count, dtype: int64\n",
      "\n",
      "freq_latin\n",
      "Never              442\n",
      "Rarely             172\n",
      "Sometimes           88\n",
      "Very frequently     33\n",
      "Name: count, dtype: int64\n",
      "\n",
      "freq_lofi\n",
      "Never              280\n",
      "Rarely             211\n",
      "Sometimes          160\n",
      "Very frequently     84\n",
      "Name: count, dtype: int64\n",
      "\n",
      "freq_metal\n",
      "Never              263\n",
      "Rarely             192\n",
      "Very frequently    146\n",
      "Sometimes          134\n",
      "Name: count, dtype: int64\n",
      "\n",
      "freq_pop\n",
      "Very frequently    277\n",
      "Sometimes          260\n",
      "Rarely             142\n",
      "Never               56\n",
      "Name: count, dtype: int64\n",
      "\n",
      "freq_r&b\n",
      "Never              225\n",
      "Rarely             211\n",
      "Sometimes          183\n",
      "Very frequently    116\n",
      "Name: count, dtype: int64\n",
      "\n",
      "freq_rap\n",
      "Rarely             214\n",
      "Never              200\n",
      "Sometimes          195\n",
      "Very frequently    126\n",
      "Name: count, dtype: int64\n",
      "\n",
      "freq_rock\n",
      "Very frequently    330\n",
      "Sometimes          219\n",
      "Rarely              95\n",
      "Never               91\n",
      "Name: count, dtype: int64\n",
      "\n",
      "freq_video_game_music\n",
      "Never              235\n",
      "Rarely             197\n",
      "Sometimes          186\n",
      "Very frequently    117\n",
      "Name: count, dtype: int64\n",
      "\n",
      "music_effects\n",
      "Improve      541\n",
      "No effect    177\n",
      "Worsen        17\n",
      "Name: count, dtype: int64\n",
      "\n",
      "permissions\n",
      "I understand.    735\n",
      "Name: count, dtype: int64\n",
      "\n"
     ]
    }
   ],
   "source": [
    "# Analysing the frequency of each category for each categorical column\n",
    "for col in categorical_cols:\n",
    "    category_counts = df_cleaned[col].value_counts()\n",
    "    print(category_counts)\n",
    "    print()"
   ]
  },
  {
   "cell_type": "markdown",
   "id": "6cb477b9",
   "metadata": {},
   "source": [
    "-------------------------------------------------------------------------------------------------------------\n",
    "Since timestamp is only the Date and time when form was submitted, we'll be dropping it as it is not relevant for our analysis.\n",
    "\n",
    "-----------------------------------------------------------------------------------------------------------"
   ]
  },
  {
   "cell_type": "code",
   "execution_count": 66,
   "id": "ecd64ceb",
   "metadata": {},
   "outputs": [
    {
     "name": "stderr",
     "output_type": "stream",
     "text": [
      "C:\\Users\\mafal\\AppData\\Local\\Temp\\ipykernel_9880\\2088096514.py:2: SettingWithCopyWarning: \n",
      "A value is trying to be set on a copy of a slice from a DataFrame\n",
      "\n",
      "See the caveats in the documentation: https://pandas.pydata.org/pandas-docs/stable/user_guide/indexing.html#returning-a-view-versus-a-copy\n",
      "  df_cleaned.drop('timestamp', axis=1, inplace=True)\n"
     ]
    }
   ],
   "source": [
    "# Dropping the 'timestamp' column in place\n",
    "df_cleaned.drop('timestamp', axis=1, inplace=True)\n",
    "df_cleaned"
   ]
  },
  {
   "cell_type": "markdown",
   "id": "7bef7539",
   "metadata": {},
   "source": [
    "### 2. Descriptive Statistics"
   ]
  },
  {
   "cell_type": "code",
   "execution_count": 69,
   "id": "fc22d98d",
   "metadata": {},
   "outputs": [
    {
     "data": {
      "text/plain": [
       "<bound method NDFrame.describe of      age primary_streaming_service  hours_per_day while_working  \\\n",
       "0     18                   Spotify            3.0           Yes   \n",
       "1     63                   Pandora            1.5           Yes   \n",
       "2     18                   Spotify            4.0            No   \n",
       "3     61             YouTube Music            2.5           Yes   \n",
       "4     18                   Spotify            4.0           Yes   \n",
       "..   ...                       ...            ...           ...   \n",
       "731   17                   Spotify            2.0           Yes   \n",
       "732   18                   Spotify            1.0           Yes   \n",
       "733   19                     Other            6.0           Yes   \n",
       "734   19                   Spotify            5.0           Yes   \n",
       "735   29             YouTube Music            2.0           Yes   \n",
       "\n",
       "    instrumentalist composer         fav_genre exploratory foreign_languages  \\\n",
       "0               Yes      Yes             Latin         Yes               Yes   \n",
       "1                No       No              Rock         Yes                No   \n",
       "2                No       No  Video game music          No               Yes   \n",
       "3                No      Yes              Jazz         Yes               Yes   \n",
       "4                No       No               R&B         Yes                No   \n",
       "..              ...      ...               ...         ...               ...   \n",
       "731             Yes       No              Rock         Yes               Yes   \n",
       "732             Yes       No               Pop         Yes               Yes   \n",
       "733              No      Yes               Rap         Yes                No   \n",
       "734             Yes       No         Classical          No                No   \n",
       "735              No       No           Hip hop         Yes               Yes   \n",
       "\n",
       "       bpm  ...         freq_r&b         freq_rap        freq_rock  \\\n",
       "0    156.0  ...        Sometimes  Very frequently            Never   \n",
       "1    119.0  ...        Sometimes           Rarely  Very frequently   \n",
       "2    132.0  ...            Never           Rarely           Rarely   \n",
       "3     84.0  ...        Sometimes            Never            Never   \n",
       "4    107.0  ...  Very frequently  Very frequently            Never   \n",
       "..     ...  ...              ...              ...              ...   \n",
       "731  120.0  ...            Never           Rarely  Very frequently   \n",
       "732  160.0  ...            Never            Never        Sometimes   \n",
       "733  120.0  ...        Sometimes        Sometimes           Rarely   \n",
       "734  170.0  ...            Never            Never            Never   \n",
       "735   98.0  ...  Very frequently  Very frequently  Very frequently   \n",
       "\n",
       "    freq_video_game_music anxiety depression insomnia  ocd music_effects  \\\n",
       "0               Sometimes     3.0        0.0      1.0  0.0     No effect   \n",
       "1                  Rarely     7.0        2.0      2.0  1.0     No effect   \n",
       "2         Very frequently     7.0        7.0     10.0  2.0     No effect   \n",
       "3                   Never     9.0        7.0      3.0  3.0       Improve   \n",
       "4                  Rarely     7.0        2.0      5.0  9.0       Improve   \n",
       "..                    ...     ...        ...      ...  ...           ...   \n",
       "731                 Never     7.0        6.0      0.0  9.0       Improve   \n",
       "732             Sometimes     3.0        2.0      2.0  5.0       Improve   \n",
       "733                Rarely     2.0        2.0      2.0  2.0       Improve   \n",
       "734             Sometimes     2.0        3.0      2.0  1.0       Improve   \n",
       "735                Rarely     2.0        2.0      2.0  5.0       Improve   \n",
       "\n",
       "       permissions  \n",
       "0    I understand.  \n",
       "1    I understand.  \n",
       "2    I understand.  \n",
       "3    I understand.  \n",
       "4    I understand.  \n",
       "..             ...  \n",
       "731  I understand.  \n",
       "732  I understand.  \n",
       "733  I understand.  \n",
       "734  I understand.  \n",
       "735  I understand.  \n",
       "\n",
       "[735 rows x 32 columns]>"
      ]
     },
     "execution_count": 69,
     "metadata": {},
     "output_type": "execute_result"
    }
   ],
   "source": [
    "df_cleaned.describe"
   ]
  },
  {
   "cell_type": "markdown",
   "id": "9c3dee31",
   "metadata": {},
   "source": [
    "###### Mean"
   ]
  },
  {
   "cell_type": "code",
   "execution_count": 83,
   "id": "f8387d6d",
   "metadata": {},
   "outputs": [
    {
     "name": "stdout",
     "output_type": "stream",
     "text": [
      "Means:\n",
      " age              2.520680e+01\n",
      "hours_per_day    3.573537e+00\n",
      "bpm              1.360668e+06\n",
      "anxiety          5.833333e+00\n",
      "depression       4.798639e+00\n",
      "insomnia         3.740816e+00\n",
      "ocd              2.631293e+00\n",
      "dtype: float64\n"
     ]
    }
   ],
   "source": [
    "# Calculating the mean or average of each numerical column\n",
    "means = numerical_df.mean()\n",
    "print(\"Means:\\n\", means)"
   ]
  },
  {
   "cell_type": "markdown",
   "id": "80279d76",
   "metadata": {},
   "source": [
    "###### Median"
   ]
  },
  {
   "cell_type": "code",
   "execution_count": 84,
   "id": "c4add018",
   "metadata": {},
   "outputs": [
    {
     "name": "stdout",
     "output_type": "stream",
     "text": [
      "Medians:\n",
      " age               21.0\n",
      "hours_per_day      3.0\n",
      "bpm              120.0\n",
      "anxiety            6.0\n",
      "depression         5.0\n",
      "insomnia           3.0\n",
      "ocd                2.0\n",
      "dtype: float64\n"
     ]
    }
   ],
   "source": [
    "# Calculating the median, or the middle value of each numerical column\n",
    "medians = numerical_df.median()\n",
    "print(\"Medians:\\n\", medians)"
   ]
  },
  {
   "cell_type": "markdown",
   "id": "bad81f5d",
   "metadata": {},
   "source": [
    "###### Mode"
   ]
  },
  {
   "cell_type": "code",
   "execution_count": 75,
   "id": "4d87827f",
   "metadata": {},
   "outputs": [
    {
     "name": "stdout",
     "output_type": "stream",
     "text": [
      "Modes:\n",
      "    age primary_streaming_service  hours_per_day while_working instrumentalist  \\\n",
      "0   18                   Spotify            2.0           Yes              No   \n",
      "\n",
      "  composer fav_genre exploratory foreign_languages    bpm  ... freq_r&b  \\\n",
      "0       No      Rock         Yes               Yes  120.0  ...    Never   \n",
      "\n",
      "  freq_rap        freq_rock freq_video_game_music anxiety depression insomnia  \\\n",
      "0   Rarely  Very frequently                 Never     7.0        7.0      0.0   \n",
      "\n",
      "   ocd music_effects    permissions  \n",
      "0  0.0       Improve  I understand.  \n",
      "\n",
      "[1 rows x 32 columns]\n"
     ]
    }
   ],
   "source": [
    "# Calculating the mode, or the most frequently occurring value in each column. Note that a column can have more than one mode\n",
    "modes = df_cleaned.mode()\n",
    "print(\"Modes:\\n\", modes)"
   ]
  },
  {
   "cell_type": "markdown",
   "id": "6d45b067",
   "metadata": {},
   "source": [
    "###### Range"
   ]
  },
  {
   "cell_type": "code",
   "execution_count": 85,
   "id": "5c10d601",
   "metadata": {},
   "outputs": [
    {
     "name": "stdout",
     "output_type": "stream",
     "text": [
      "Ranges:\n",
      " age                     79.0\n",
      "hours_per_day           24.0\n",
      "bpm              999999939.0\n",
      "anxiety                 10.0\n",
      "depression              10.0\n",
      "insomnia                10.0\n",
      "ocd                     10.0\n",
      "dtype: float64\n"
     ]
    }
   ],
   "source": [
    "# Calculating the range, or the difference between the maximum and minimum values in each numerical column\n",
    "ranges = numerical_df.max() - numerical_df.min()\n",
    "print(\"Ranges:\\n\", ranges)"
   ]
  },
  {
   "cell_type": "markdown",
   "id": "7e418f47",
   "metadata": {},
   "source": [
    "###### Standard Deviation"
   ]
  },
  {
   "cell_type": "code",
   "execution_count": 86,
   "id": "cb6cb501",
   "metadata": {},
   "outputs": [
    {
     "name": "stdout",
     "output_type": "stream",
     "text": [
      "Standard Deviations:\n",
      " age              1.205497e+01\n",
      "hours_per_day    3.030187e+00\n",
      "bpm              3.688555e+07\n",
      "anxiety          2.792515e+00\n",
      "depression       3.030206e+00\n",
      "insomnia         3.090126e+00\n",
      "ocd              2.839383e+00\n",
      "dtype: float64\n"
     ]
    }
   ],
   "source": [
    "# Calculating the standard deviation, a measure of the amount of variation or dispersion of a set of values\n",
    "std_devs = numerical_df.std()\n",
    "print(\"Standard Deviations:\\n\", std_devs)"
   ]
  },
  {
   "cell_type": "markdown",
   "id": "7b5d4d63",
   "metadata": {},
   "source": [
    "###### Distribution of Variables"
   ]
  },
  {
   "cell_type": "code",
   "execution_count": 90,
   "id": "0ca53775",
   "metadata": {},
   "outputs": [
    {
     "data": {
      "image/png": "[encoded data removed]",
      "text/plain": [
       "<Figure size 640x480 with 1 Axes>"
      ]
     },
     "metadata": {},
     "output_type": "display_data"
    }
   ],
   "source": [
    "# Histogram for counting the total for each favorite genre\n",
    "sns.histplot(df_cleaned['fav_genre'])\n",
    "plt.title('Count by Favorite music genre')\n",
    "\n",
    "# Rotate x-axis labels to be diagonal (45 degrees)\n",
    "plt.xticks(rotation=45, ha='right')  # 'ha' aligns the labels right-justified at their center\n",
    "plt.tight_layout()  # This ensures that the labels (and other figure elements) fit well into the figure area\n",
    "plt.show()"
   ]
  },
  {
   "cell_type": "code",
   "execution_count": 92,
   "id": "ce8a3868",
   "metadata": {},
   "outputs": [
    {
     "data": {
      "image/png": "[encoded data removed]",
      "text/plain": [
       "<Figure size 640x480 with 1 Axes>"
      ]
     },
     "metadata": {},
     "output_type": "display_data"
    }
   ],
   "source": [
    "# Histogram for counting the total for each depression level\n",
    "sns.histplot(df_cleaned['depression'])\n",
    "plt.title('Count by Depression level')\n",
    "plt.show()"
   ]
  },
  {
   "cell_type": "code",
   "execution_count": 93,
   "id": "55337f9f",
   "metadata": {},
   "outputs": [
    {
     "data": {
      "image/png": "[encoded data removed]",
      "text/plain": [
       "<Figure size 640x480 with 1 Axes>"
      ]
     },
     "metadata": {},
     "output_type": "display_data"
    }
   ],
   "source": [
    "# Histogram for counting the total for each depression level\n",
    "sns.histplot(df_cleaned['insomnia'])\n",
    "plt.title('Count by Insomnia level')\n",
    "plt.show()"
   ]
  },
  {
   "cell_type": "code",
   "execution_count": 94,
   "id": "9c7b1d2b",
   "metadata": {},
   "outputs": [
    {
     "data": {
      "image/png": "[encoded data removed]",
      "text/plain": [
       "<Figure size 640x480 with 1 Axes>"
      ]
     },
     "metadata": {},
     "output_type": "display_data"
    }
   ],
   "source": [
    "# Histogram for counting the total for each depression level\n",
    "sns.histplot(df_cleaned['ocd'])\n",
    "plt.title('Count by OCD level')\n",
    "plt.show()"
   ]
  },
  {
   "cell_type": "code",
   "execution_count": 95,
   "id": "7bfde447",
   "metadata": {},
   "outputs": [
    {
     "data": {
      "image/png": "[encoded data removed]",
      "text/plain": [
       "<Figure size 640x480 with 1 Axes>"
      ]
     },
     "metadata": {},
     "output_type": "display_data"
    }
   ],
   "source": [
    "# Histogram for counting the total for each depression level\n",
    "sns.histplot(df_cleaned['music_effects'])\n",
    "plt.title('Count by Music Effects level')\n",
    "plt.show()"
   ]
  },
  {
   "cell_type": "code",
   "execution_count": 96,
   "id": "52707828",
   "metadata": {},
   "outputs": [],
   "source": [
    "# Saving the column names for freq_<music_genre> columns\n",
    "freq_columns = [col for col in df_cleaned.columns if col.startswith('freq')]"
   ]
  },
  {
   "cell_type": "code",
   "execution_count": 99,
   "id": "9c039751",
   "metadata": {},
   "outputs": [
    {
     "data": {
      "image/png": "[encoded data removed]",
      "text/plain": [
       "<Figure size 640x480 with 1 Axes>"
      ]
     },
     "metadata": {},
     "output_type": "display_data"
    },
    {
     "data": {
      "image/png": "[encoded data removed]",
      "text/plain": [
       "<Figure size 640x480 with 1 Axes>"
      ]
     },
     "metadata": {},
     "output_type": "display_data"
    },
    {
     "data": {
      "image/png": "[encoded data removed]",
      "text/plain": [
       "<Figure size 640x480 with 1 Axes>"
      ]
     },
     "metadata": {},
     "output_type": "display_data"
    },
    {
     "data": {
      "image/png": "[encoded data removed]",
      "text/plain": [
       "<Figure size 640x480 with 1 Axes>"
      ]
     },
     "metadata": {},
     "output_type": "display_data"
    },
    {
     "data": {
      "image/png": "[encoded data removed]",
      "text/plain": [
       "<Figure size 640x480 with 1 Axes>"
      ]
     },
     "metadata": {},
     "output_type": "display_data"
    },
    {
     "data": {
      "image/png": "[encoded data removed]",
      "text/plain": [
       "<Figure size 640x480 with 1 Axes>"
      ]
     },
     "metadata": {},
     "output_type": "display_data"
    },
    {
     "data": {
      "image/png": "[encoded data removed]",
      "text/plain": [
       "<Figure size 640x480 with 1 Axes>"
      ]
     },
     "metadata": {},
     "output_type": "display_data"
    },
    {
     "data": {
      "image/png": "[encoded data removed]",
      "text/plain": [
       "<Figure size 640x480 with 1 Axes>"
      ]
     },
     "metadata": {},
     "output_type": "display_data"
    },
    {
     "data": {
      "image/png": "[encoded data removed]",
      "text/plain": [
       "<Figure size 640x480 with 1 Axes>"
      ]
     },
     "metadata": {},
     "output_type": "display_data"
    },
    {
     "data": {
      "image/png": "[encoded data removed]",
      "text/plain": [
       "<Figure size 640x480 with 1 Axes>"
      ]
     },
     "metadata": {},
     "output_type": "display_data"
    },
    {
     "data": {
      "image/png": "[encoded data removed]",
      "text/plain": [
       "<Figure size 640x480 with 1 Axes>"
      ]
     },
     "metadata": {},
     "output_type": "display_data"
    },
    {
     "data": {
      "image/png": "[encoded data removed]",
      "text/plain": [
       "<Figure size 640x480 with 1 Axes>"
      ]
     },
     "metadata": {},
     "output_type": "display_data"
    },
    {
     "data": {
      "image/png": "[encoded data removed]",
      "text/plain": [
       "<Figure size 640x480 with 1 Axes>"
      ]
     },
     "metadata": {},
     "output_type": "display_data"
    },
    {
     "data": {
      "image/png": "[encoded data removed]",
      "text/plain": [
       "<Figure size 640x480 with 1 Axes>"
      ]
     },
     "metadata": {},
     "output_type": "display_data"
    },
    {
     "data": {
      "image/png": "[encoded data removed]",
      "text/plain": [
       "<Figure size 640x480 with 1 Axes>"
      ]
     },
     "metadata": {},
     "output_type": "display_data"
    },
    {
     "data": {
      "image/png": "[encoded data removed]",
      "text/plain": [
       "<Figure size 640x480 with 1 Axes>"
      ]
     },
     "metadata": {},
     "output_type": "display_data"
    }
   ],
   "source": [
    "# Plotting each freq_<music_genre> column\n",
    "for col in freq_columns:\n",
    "    plt.figure()  # Create a new figure for each histogram\n",
    "    plt.hist(df_cleaned[col])  # Plot histogram\n",
    "    plt.title(col)  # Set title to column name\n",
    "    plt.xlabel('Frequency')\n",
    "    plt.ylabel('Count')\n",
    "    plt.show()"
   ]
  },
  {
   "cell_type": "code",
   "execution_count": null,
   "id": "6e9cbc42",
   "metadata": {},
   "outputs": [],
   "source": []
  }
 ],
 "metadata": {
  "kernelspec": {
   "display_name": "Python 3 (ipykernel)",
   "language": "python",
   "name": "python3"
  },
  "language_info": {
   "codemirror_mode": {
    "name": "ipython",
    "version": 3
   },
   "file_extension": ".py",
   "mimetype": "text/x-python",
   "name": "python",
   "nbconvert_exporter": "python",
   "pygments_lexer": "ipython3",
   "version": "3.11.5"
  }
 },
 "nbformat": 4,
 "nbformat_minor": 5
}
